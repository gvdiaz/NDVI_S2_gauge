{
 "cells": [
  {
   "cell_type": "markdown",
   "id": "3e86f8fb-6ffe-4488-a479-8f40dbda8ab0",
   "metadata": {},
   "source": [
    "## Título: Esqueleto para guardar listado de escenas a bajar de manera de utilizarla en otro script para bajarlas\n",
    "## Autor: Gustavo V. Diaz\n",
    "### Fecha: 20/11/2023"
   ]
  },
  {
   "cell_type": "code",
   "execution_count": 1,
   "id": "1dc77911-cea9-40f3-93f0-bfb4dc868f95",
   "metadata": {},
   "outputs": [],
   "source": [
    "import sys\n",
    "import os\n",
    "import pandas as pd"
   ]
  },
  {
   "cell_type": "code",
   "execution_count": 2,
   "id": "1db1d10b-ff90-4eb5-a923-d6bb3b71524d",
   "metadata": {},
   "outputs": [],
   "source": [
    "sys.path.append(r'../utils')\n",
    "import mod_searcher as ms\n",
    "path_search = './aux_files/search_s2.pkl'\n",
    "df_search = ms.read_list(path_search)"
   ]
  },
  {
   "cell_type": "code",
   "execution_count": 3,
   "id": "8931163a-e932-4fdd-9cdc-a72f6da2893b",
   "metadata": {},
   "outputs": [
    {
     "data": {
      "text/plain": [
       "['c1253c40-3176-5322-9c70-a0a575c0e56e',\n",
       " '0db40101-d5be-5962-8a67-935cdf44a3d6',\n",
       " '3db1829f-7309-5c51-810f-20ffc7410946']"
      ]
     },
     "metadata": {},
     "output_type": "display_data"
    },
    {
     "data": {
      "text/plain": [
       "['c1253c40-3176-5322-9c70-a0a575c0e56e',\n",
       " '0db40101-d5be-5962-8a67-935cdf44a3d6',\n",
       " 'c1be4316-de04-5902-b0ac-b01b32aec350']"
      ]
     },
     "metadata": {},
     "output_type": "display_data"
    }
   ],
   "source": [
    "for df in df_search:\n",
    "    display(df['Id'].to_list())"
   ]
  },
  {
   "cell_type": "code",
   "execution_count": 4,
   "id": "5e3d6412-2b95-48bf-9d1b-e00a9c6ea31f",
   "metadata": {},
   "outputs": [],
   "source": [
    "def verify_folder(path2):\n",
    "    if os.path.isdir(path2):\n",
    "        # Limpio todos los archivos\n",
    "        file_list = os.listdir(path2)\n",
    "        for file in file_list:\n",
    "            if os.path.isdir(os.path.join(path2,file)):\n",
    "                pass\n",
    "            else:\n",
    "                os.remove(os.path.join(path2,file))\n",
    "            print(f'Borré todos los archivos en carpeta {path2}')\n",
    "    else:\n",
    "        # print(f'No existe {path2}')\n",
    "        # print(os.path.basename(path2))\n",
    "        os.mkdir(path2)\n",
    "        print('Se creó la carpeta:',os.path.abspath(path2))"
   ]
  },
  {
   "cell_type": "code",
   "execution_count": 5,
   "id": "53cc724b-42f1-4679-9250-296141804e37",
   "metadata": {},
   "outputs": [
    {
     "name": "stdout",
     "output_type": "stream",
     "text": [
      "Borré todos los archivos en carpeta ../output/\n",
      "Borré todos los archivos en carpeta ../output/\n"
     ]
    }
   ],
   "source": [
    "# Verifico carpeta de para productos de salida\n",
    "out_prod_txt = '../output/'\n",
    "out_file_name = 'prod_id_selected.txt'\n",
    "out_path = os.path.join(out_prod_txt, out_file_name)\n",
    "# print(out_path)\n",
    "verify_folder(out_prod_txt)"
   ]
  },
  {
   "cell_type": "code",
   "execution_count": 6,
   "id": "bd34ce1e-29d4-4e3c-bf70-aafc0fbee25b",
   "metadata": {},
   "outputs": [
    {
     "name": "stdout",
     "output_type": "stream",
     "text": [
      ",Id\n",
      "0,c1253c40-3176-5322-9c70-a0a575c0e56e\n",
      "1,0db40101-d5be-5962-8a67-935cdf44a3d6\n",
      "2,3db1829f-7309-5c51-810f-20ffc7410946\n",
      "\n"
     ]
    }
   ],
   "source": [
    "# Selecciono un producto para guardar en un txt en la carpeta de salida\n",
    "# Podría llegar a ser 0, 1, 2\n",
    "# Finalmente guardo las tres en formato csv\n",
    "# print(df_search[0]['Id'].to_list()[0])\n",
    "string2save = df_search[0]['Id'].to_csv()\n",
    "print(string2save)"
   ]
  },
  {
   "cell_type": "code",
   "execution_count": 7,
   "id": "61f46e5b-87f8-4840-8624-2cf3516af245",
   "metadata": {},
   "outputs": [
    {
     "name": "stdout",
     "output_type": "stream",
     "text": [
      "cat: /src/Output/prod_id_selected.txt: No such file or directory\r\n"
     ]
    }
   ],
   "source": [
    "cat /src/Output/prod_id_selected.txt"
   ]
  },
  {
   "cell_type": "code",
   "execution_count": 8,
   "id": "86a8c478",
   "metadata": {},
   "outputs": [
    {
     "data": {
      "text/plain": [
       "['c1253c40-3176-5322-9c70-a0a575c0e56e',\n",
       " '0db40101-d5be-5962-8a67-935cdf44a3d6',\n",
       " '3db1829f-7309-5c51-810f-20ffc7410946']"
      ]
     },
     "metadata": {},
     "output_type": "display_data"
    },
    {
     "name": "stdout",
     "output_type": "stream",
     "text": [
      "Done writing list into a binary file\n"
     ]
    }
   ],
   "source": [
    "#Diseño de función para pasar a lista los ids que le pase por archivo\n",
    "display(ms.read2list(path_search))\n",
    "out_list = os.path.join(out_prod_txt, 'prod_id_selected.pkl')\n",
    "ms.write_list(ms.read2list(path_search),out_list)"
   ]
  },
  {
   "cell_type": "code",
   "execution_count": 9,
   "id": "b75b4431",
   "metadata": {},
   "outputs": [
    {
     "data": {
      "text/plain": [
       "['c1253c40-3176-5322-9c70-a0a575c0e56e',\n",
       " '0db40101-d5be-5962-8a67-935cdf44a3d6',\n",
       " '3db1829f-7309-5c51-810f-20ffc7410946']"
      ]
     },
     "metadata": {},
     "output_type": "display_data"
    }
   ],
   "source": [
    "# Verifico si se escribió correctamente el archivo\n",
    "display(ms.read_list(out_list))"
   ]
  },
  {
   "cell_type": "code",
   "execution_count": 10,
   "id": "b1858b8c",
   "metadata": {},
   "outputs": [
    {
     "name": "stdout",
     "output_type": "stream",
     "text": [
      "------------------------------------------------------------\n",
      "El script que se encuentra funcionando es: \n",
      "token_decoder.py\n",
      "\n",
      "True ./token_dict.txt\n",
      "True ../output/prod_id_selected.pkl\n",
      "Muestra de keycloak token KEYCLOAK_TOKEN\n",
      "eyJhbGciOiJSUzI1NiIsInR5cCIgOiAiSldUIiwia2lkIiA6ICJYVUh3VWZKaHVDVWo0X3k4ZF8xM0hxWXBYMFdwdDd2anhob2FPLUxzREZFIn0.eyJleHAiOjE2ODk5NjE3NzEsImlhdCI6MTY4OTk2MTE3MSwianRpIjoiMmNlM2FmZmMtM2I0Yi00NzZhLThlYzAtN2E5NWJhMDVhOWFlIiwiaXNzIjoiaHR0cHM6Ly9pZGVudGl0eS5kYXRhc3BhY2UuY29wZXJuaWN1cy5ldS9hdXRoL3JlYWxtcy9DRFNFIiwiYXVkIjpbIkNMT1VERkVSUk9fUFVCTElDIiwiYWNjb3VudCJdLCJzdWIiOiI5NjNiNzVlZC01YWUyLTQzMWQtOGU3Yy0zZDNjYTc4ZDYxNDkiLCJ0eXAiOiJCZWFyZXIiLCJhenAiOiJjZHNlLXB1YmxpYyIsInNlc3Npb25fc3RhdGUiOiJmNjdkNDIzNC0wNTUyLTQ0ZDMtOGE2MC1lY2VmNWVkNzdiODQiLCJhbGxvd2VkLW9yaWdpbnMiOlsiaHR0cHM6Ly9sb2NhbGhvc3Q6NDIwMCIsIioiLCJodHRwczovL3dvcmtzcGFjZS5zdGFnaW5nLWNkc2UtZGF0YS1leHBsb3Jlci5hcHBzLnN0YWdpbmcuaW50cmEuY2xvdWRmZXJyby5jb20iXSwicmVhbG1fYWNjZXNzIjp7InJvbGVzIjpbIm9mZmxpbmVfYWNjZXNzIiwidW1hX2F1dGhvcml6YXRpb24iLCJkZWZhdWx0LXJvbGVzLWNkYXMiXX0sInJlc291cmNlX2FjY2VzcyI6eyJhY2NvdW50Ijp7InJvbGVzIjpbIm1hbmFnZS1hY2NvdW50IiwibWFuYWdlLWFjY291bnQtbGlua3MiLCJ2aWV3LXByb2ZpbGUiXX19LCJzY29wZSI6IkFVRElFTkNFX1BVQkxJQyBlbWFpbCBwcm9maWxlIHVzZXItY29udGV4dCIsInNpZCI6ImY2N2Q0MjM0LTA1NTItNDRkMy04YTYwLWVjZWY1ZWQ3N2I4NCIsImdyb3VwX21lbWJlcnNoaXAiOlsiL2FjY2Vzc19ncm91cHMvdXNlcl90eXBvbG9neS9jb3Blcm5pY3VzX2dlbmVyYWwiLCIvb3JnYW5pemF0aW9ucy9kZWZhdWx0LTk2M2I3NWVkLTVhZTItNDMxZC04ZTdjLTNkM2NhNzhkNjE0OS9yZWd1bGFyX3VzZXIiXSwiZW1haWxfdmVyaWZpZWQiOnRydWUsIm9yZ2FuaXphdGlvbnMiOlsiZGVmYXVsdC05NjNiNzVlZC01YWUyLTQzMWQtOGU3Yy0zZDNjYTc4ZDYxNDkiXSwibmFtZSI6Ikd1c3Rhdm8gRGlheiIsInVzZXJfY29udGV4dF9pZCI6ImMxODEwY2M1LTI5NzgtNGU0Ni1iNWVmLWNkYWVlZmYyYThiZCIsImNvbnRleHRfcm9sZXMiOnt9LCJjb250ZXh0X2dyb3VwcyI6WyIvYWNjZXNzX2dyb3Vwcy91c2VyX3R5cG9sb2d5L2NvcGVybmljdXNfZ2VuZXJhbC8iLCIvb3JnYW5pemF0aW9ucy9kZWZhdWx0LTk2M2I3NWVkLTVhZTItNDMxZC04ZTdjLTNkM2NhNzhkNjE0OS9yZWd1bGFyX3VzZXIvIl0sInByZWZlcnJlZF91c2VybmFtZSI6Imd1czgzOEBnbWFpbC5jb20iLCJnaXZlbl9uYW1lIjoiR3VzdGF2byIsInVzZXJfY29udGV4dCI6ImRlZmF1bHQtOTYzYjc1ZWQtNWFlMi00MzFkLThlN2MtM2QzY2E3OGQ2MTQ5IiwiZmFtaWx5X25hbWUiOiJEaWF6IiwiZW1haWwiOiJndXM4MzhAZ21haWwuY29tIn0.Y_hSsQ1gL63H74U6-HSsBEDCXsqR4XFTjMywd5zTNrwWAaJuk8LLFy8q5QQfe3DmZGSr-jI1Wgl0_LYP8bBjm7HEkoUPi7nk7eG7A3nsUnBY-9wKeDfNFg_iyoZcU-Y6Oo9z_JwLnVPsufCOHtPpbV9qZsnrwrDmI6gaSfZM26od2lgfDqon0mpTu8f0Z-cUjPUFpH5ykR6uOzrl79fpI2Qkp7ZQ8BXofMUpiVibAzT9bdzMaY_rSvPxhwPMKHZsVmsNZ9NlyZS0JQ2LdoW7i--lZ34Yx1MNB3aW0F5GXRdNYTou65YpEYTkNR1yuYuo1sbSzalRLF587XRofMp3NQ\n",
      "Muestro token de access token: \n",
      "eyJhbGciOiJSUzI1NiIsInR5cCIgOiAiSldUIiwia2lkIiA6ICJYVUh3VWZKaHVDVWo0X3k4ZF8xM0hxWXBYMFdwdDd2anhob2FPLUxzREZFIn0.eyJleHAiOjE2ODk5NjE3NzEsImlhdCI6MTY4OTk2MTE3MSwianRpIjoiMmNlM2FmZmMtM2I0Yi00NzZhLThlYzAtN2E5NWJhMDVhOWFlIiwiaXNzIjoiaHR0cHM6Ly9pZGVudGl0eS5kYXRhc3BhY2UuY29wZXJuaWN1cy5ldS9hdXRoL3JlYWxtcy9DRFNFIiwiYXVkIjpbIkNMT1VERkVSUk9fUFVCTElDIiwiYWNjb3VudCJdLCJzdWIiOiI5NjNiNzVlZC01YWUyLTQzMWQtOGU3Yy0zZDNjYTc4ZDYxNDkiLCJ0eXAiOiJCZWFyZXIiLCJhenAiOiJjZHNlLXB1YmxpYyIsInNlc3Npb25fc3RhdGUiOiJmNjdkNDIzNC0wNTUyLTQ0ZDMtOGE2MC1lY2VmNWVkNzdiODQiLCJhbGxvd2VkLW9yaWdpbnMiOlsiaHR0cHM6Ly9sb2NhbGhvc3Q6NDIwMCIsIioiLCJodHRwczovL3dvcmtzcGFjZS5zdGFnaW5nLWNkc2UtZGF0YS1leHBsb3Jlci5hcHBzLnN0YWdpbmcuaW50cmEuY2xvdWRmZXJyby5jb20iXSwicmVhbG1fYWNjZXNzIjp7InJvbGVzIjpbIm9mZmxpbmVfYWNjZXNzIiwidW1hX2F1dGhvcml6YXRpb24iLCJkZWZhdWx0LXJvbGVzLWNkYXMiXX0sInJlc291cmNlX2FjY2VzcyI6eyJhY2NvdW50Ijp7InJvbGVzIjpbIm1hbmFnZS1hY2NvdW50IiwibWFuYWdlLWFjY291bnQtbGlua3MiLCJ2aWV3LXByb2ZpbGUiXX19LCJzY29wZSI6IkFVRElFTkNFX1BVQkxJQyBlbWFpbCBwcm9maWxlIHVzZXItY29udGV4dCIsInNpZCI6ImY2N2Q0MjM0LTA1NTItNDRkMy04YTYwLWVjZWY1ZWQ3N2I4NCIsImdyb3VwX21lbWJlcnNoaXAiOlsiL2FjY2Vzc19ncm91cHMvdXNlcl90eXBvbG9neS9jb3Blcm5pY3VzX2dlbmVyYWwiLCIvb3JnYW5pemF0aW9ucy9kZWZhdWx0LTk2M2I3NWVkLTVhZTItNDMxZC04ZTdjLTNkM2NhNzhkNjE0OS9yZWd1bGFyX3VzZXIiXSwiZW1haWxfdmVyaWZpZWQiOnRydWUsIm9yZ2FuaXphdGlvbnMiOlsiZGVmYXVsdC05NjNiNzVlZC01YWUyLTQzMWQtOGU3Yy0zZDNjYTc4ZDYxNDkiXSwibmFtZSI6Ikd1c3Rhdm8gRGlheiIsInVzZXJfY29udGV4dF9pZCI6ImMxODEwY2M1LTI5NzgtNGU0Ni1iNWVmLWNkYWVlZmYyYThiZCIsImNvbnRleHRfcm9sZXMiOnt9LCJjb250ZXh0X2dyb3VwcyI6WyIvYWNjZXNzX2dyb3Vwcy91c2VyX3R5cG9sb2d5L2NvcGVybmljdXNfZ2VuZXJhbC8iLCIvb3JnYW5pemF0aW9ucy9kZWZhdWx0LTk2M2I3NWVkLTVhZTItNDMxZC04ZTdjLTNkM2NhNzhkNjE0OS9yZWd1bGFyX3VzZXIvIl0sInByZWZlcnJlZF91c2VybmFtZSI6Imd1czgzOEBnbWFpbC5jb20iLCJnaXZlbl9uYW1lIjoiR3VzdGF2byIsInVzZXJfY29udGV4dCI6ImRlZmF1bHQtOTYzYjc1ZWQtNWFlMi00MzFkLThlN2MtM2QzY2E3OGQ2MTQ5IiwiZmFtaWx5X25hbWUiOiJEaWF6IiwiZW1haWwiOiJndXM4MzhAZ21haWwuY29tIn0.Y_hSsQ1gL63H74U6-HSsBEDCXsqR4XFTjMywd5zTNrwWAaJuk8LLFy8q5QQfe3DmZGSr-jI1Wgl0_LYP8bBjm7HEkoUPi7nk7eG7A3nsUnBY-9wKeDfNFg_iyoZcU-Y6Oo9z_JwLnVPsufCOHtPpbV9qZsnrwrDmI6gaSfZM26od2lgfDqon0mpTu8f0Z-cUjPUFpH5ykR6uOzrl79fpI2Qkp7ZQ8BXofMUpiVibAzT9bdzMaY_rSvPxhwPMKHZsVmsNZ9NlyZS0JQ2LdoW7i--lZ34Yx1MNB3aW0F5GXRdNYTou65YpEYTkNR1yuYuo1sbSzalRLF587XRofMp3NQ\n",
      "c1253c40-3176-5322-9c70-a0a575c0e56e\n",
      "http://catalogue.dataspace.copernicus.eu/odata/v1/Products(c1253c40-3176-5322-9c70-a0a575c0e56e)/$value\n"
     ]
    },
    {
     "name": "stderr",
     "output_type": "stream",
     "text": [
      "/usr/lib/python3/dist-packages/urllib3/connectionpool.py:1011: InsecureRequestWarning: Unverified HTTPS request is being made to host 'zipper.dataspace.copernicus.eu'. Adding certificate verification is strongly advised. See: https://urllib3.readthedocs.io/en/latest/advanced-usage.html#ssl-warnings\n",
      "  InsecureRequestWarning,\n"
     ]
    }
   ],
   "source": [
    "# Prueba de script token_decoder dentro de notebook\n",
    "os.chdir('/src/token/')\n",
    "%run token_decoder.py"
   ]
  }
 ],
 "metadata": {
  "kernelspec": {
   "display_name": "Python 3",
   "language": "python",
   "name": "python3"
  },
  "language_info": {
   "codemirror_mode": {
    "name": "ipython",
    "version": 3
   },
   "file_extension": ".py",
   "mimetype": "text/x-python",
   "name": "python",
   "nbconvert_exporter": "python",
   "pygments_lexer": "ipython3",
   "version": "3.6.15"
  }
 },
 "nbformat": 4,
 "nbformat_minor": 5
}
