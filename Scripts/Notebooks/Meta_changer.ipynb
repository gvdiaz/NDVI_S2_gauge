{
 "cells": [
  {
   "cell_type": "markdown",
   "id": "2f7e8269-87a7-4e2a-a5d1-67fe9e4e4837",
   "metadata": {},
   "source": [
    "## Título: Changer Sentinel-2 metadata for make it readable for snappy 9\n",
    "## Fecha: 06/04/2025\n",
    "## Autor: Gustavo V. Diaz\n",
    "[Ref link unsolved](https://forum.step.esa.int/t/sen2cor-supporting-processing-baseline-05-11/42828)"
   ]
  },
  {
   "cell_type": "code",
   "execution_count": 1,
   "id": "3067516f-33a8-4af7-8e18-22a1f49a19f1",
   "metadata": {},
   "outputs": [],
   "source": [
    "import os\n",
    "import zipfile\n",
    "\n",
    "# Módulo para modificar xml para hacerlo compatible con snappy 9\n",
    "import xml.etree.ElementTree as ET"
   ]
  },
  {
   "cell_type": "code",
   "execution_count": 2,
   "id": "3856cf23-2b01-4f6d-bbb0-cb142f891a48",
   "metadata": {},
   "outputs": [
    {
     "data": {
      "text/plain": [
       "['S2A_MSIL2A_20250112T134701_N0511_R024_T21HUA_20250112T183356.SAFE.zip',\n",
       " 'S2B_MSIL2A_20241228T134709_N0511_R024_T21HUA_20241228T172745.SAFE.zip',\n",
       " 'S2B_MSIL2A_20241208T134709_N0511_R024_T21HUA_20241208T190915.SAFE.zip',\n",
       " 'S2A_MSIL2A_20241203T134701_N0511_R024_T21HUA_20241203T183351.SAFE.zip',\n",
       " 'S2A_MSIL2A_20241113T134701_N0511_R024_T21HUA_20241113T183442.SAFE.zip',\n",
       " 'S2A_MSIL2A_20240924T134711_N0511_R024_T21HUA_20240924T190249.SAFE.zip',\n",
       " 'S2B_MSIL2A_20241029T134709_N0511_R024_T21HUA_20241029T173341.SAFE.zip',\n",
       " 'S2A_MSIL2A_20240726T134711_N0511_R024_T21HUA_20240727T091206.SAFE.zip',\n",
       " 'S2A_MSIL2A_20240914T134701_N0511_R024_T21HUA_20240914T202753.SAFE.zip']"
      ]
     },
     "metadata": {},
     "output_type": "display_data"
    }
   ],
   "source": [
    "# path2prods = r'/src/Output/SMM_vacas_2025_test_3_20250405T183331/tmp/'\n",
    "# display(os.listdir(path2prods))\n",
    "path2prods = r'/src/Output/SMM_vacas_2025_test_3_20250405T183331/tmp/'\n",
    "# Get all files in the directory with .zip extension\n",
    "zip_files = [file for file in os.listdir(path2prods) \n",
    "             if file.endswith('.zip') and os.path.isfile(os.path.join(path2prods, file))]\n",
    "display(zip_files)"
   ]
  },
  {
   "cell_type": "code",
   "execution_count": 3,
   "id": "04669ddc-fed0-4051-af2f-6818cbe8de87",
   "metadata": {},
   "outputs": [],
   "source": [
    "def list_xml_files(zip_path):\n",
    "    \"\"\"List all .xml files in a ZIP archive\"\"\"\n",
    "    with zipfile.ZipFile(zip_path, 'r') as zip_ref:\n",
    "        xml_files = [f for f in zip_ref.namelist() if f.lower().endswith('.xml')]\n",
    "        return xml_files"
   ]
  },
  {
   "cell_type": "code",
   "execution_count": 3,
   "id": "6f5b4339-8ec6-4612-91b2-71c155bd96fd",
   "metadata": {},
   "outputs": [
    {
     "name": "stdout",
     "output_type": "stream",
     "text": [
      "S2A_MSIL2A_20250112T134701_N0511_R024_T21HUA_20250112T183356.SAFE.zip\n"
     ]
    },
    {
     "name": "stderr",
     "output_type": "stream",
     "text": [
      "WARNING: An illegal reflective access operation has occurred\n",
      "WARNING: Illegal reflective access by org.esa.snap.runtime.Engine (file:/usr/local/esa-snap/snap/modules/org.esa.snap.snap-jp2-reader/org-esa-snap/snap-runtime.jar) to method java.lang.ClassLoader.initializePath(java.lang.String)\n",
      "WARNING: Please consider reporting this to the maintainers of org.esa.snap.runtime.Engine\n",
      "WARNING: Use --illegal-access=warn to enable warnings of further illegal reflective access operations\n",
      "WARNING: All illegal access operations will be denied in a future release\n",
      "INFO: org.esa.snap.core.gpf.operators.tooladapter.ToolAdapterIO: Initializing external tool adapters\n",
      "SLF4J: Class path contains multiple SLF4J bindings.\n",
      "SLF4J: Found binding in [jar:file:/usr/local/esa-snap/snap/modules/org.esa.snap.snap-netcdf/org-slf4j/slf4j-simple.jar!/org/slf4j/impl/StaticLoggerBinder.class]\n",
      "SLF4J: Found binding in [jar:file:/usr/local/esa-snap/snap/modules/ext/org.esa.snap.snap-netcdf/org-slf4j/slf4j-simple.jar!/org/slf4j/impl/StaticLoggerBinder.class]\n",
      "SLF4J: See http://www.slf4j.org/codes.html#multiple_bindings for an explanation.\n",
      "SLF4J: Actual binding is of type [org.slf4j.impl.SimpleLoggerFactory]\n",
      "INFO: org.esa.snap.core.util.EngineVersionCheckActivator: Please check regularly for new updates for the best SNAP experience.\n",
      "INFO: eu.esa.opt.dataio.s2.ortho.S2OrthoProductReaderPlugIn: Building product reader - EPSG:32721\n",
      "WARNING: org.esa.snap.core.metadata.GenericXmlMetadata: Metadata: the path to element [metadata_level] does not exist\n",
      "WARNING: org.esa.snap.core.metadata.GenericXmlMetadata: Metadata: the path to element [bandid] does not exist\n",
      "WARNING: org.esa.snap.core.metadata.GenericXmlMetadata: Metadata: the path to element [bandid] does not exist\n",
      "WARNING: org.esa.snap.core.metadata.GenericXmlMetadata: Metadata: the path to element [bandid] does not exist\n",
      "WARNING: org.esa.snap.core.metadata.GenericXmlMetadata: Metadata: the path to element [bandid] does not exist\n",
      "WARNING: org.esa.snap.core.metadata.GenericXmlMetadata: Metadata: the path to element [bandid] does not exist\n",
      "WARNING: eu.esa.opt.dataio.s2.ortho.metadata.S2OrthoMetadata: Warning: missing file /src/Output/SMM_vacas_2025_test_3_20250405T183331/tmp/S2A_MSIL2A_20250112T134701_N0511_R024_T21HUA_20250112T183356.SAFE.zip/S2A_MSIL2A_20250112T134701_N0511_R024_T21HUA_20250112T183356.SAFE/GRANULE/L2A_T21HUA_A049928_20250112T135917/QI_DATA/L2A_T21HUA_20250112T134701_DDV_20m.jp2\n",
      "\n",
      "WARNING: eu.esa.opt.dataio.s2.ortho.metadata.S2OrthoMetadata: Warning: no image files found for band quality_dense_dark_vegetation\n",
      "\n"
     ]
    }
   ],
   "source": [
    "# choose one file and get it content that has the '*.xml' extension\n",
    "file4dev = zip_files[0]\n",
    "print(file4dev)\n",
    "# I try to extract the file MTD_MSIL2A.xml that exist in every Sentinel-2 product\n",
    "# Search every xml\n",
    "from esa_snappy import ProductIO\n",
    "path4dev = os.path.join(path2prods, file4dev)\n",
    "# xml_list = list_xml_files(path4dev)\n",
    "# display(xml_list)\n",
    "# file2extract = xml_list[-1]\n",
    "product = ProductIO.readProduct(path4dev)"
   ]
  },
  {
   "cell_type": "code",
   "execution_count": 4,
   "id": "d4a8864c-5ce6-4bd9-96c6-8e0a68deed3b",
   "metadata": {},
   "outputs": [
    {
     "name": "stdout",
     "output_type": "stream",
     "text": [
      "Ancho: 10980 px\n",
      "\n",
      "Alto: 10980 px\n",
      "\n",
      "Nombre: S2A_MSIL2A_20250112T134701_N0511_R024_T21HUA_20250112T183356\n",
      "\n",
      "Cantidad de bandas: 158\n",
      "\n"
     ]
    }
   ],
   "source": [
    "# Procesamiento de datos\n",
    "width = product.getSceneRasterWidth()\n",
    "print(f\"Ancho: {width} px\\n\")\n",
    "height = product.getSceneRasterHeight()\n",
    "print(f\"Alto: {height} px\\n\")\n",
    "prod_name = product.getName()\n",
    "print(f\"Nombre: {prod_name}\\n\")\n",
    "band_names = product.getBandNames()\n",
    "# print(f\"Nombre de bandas: {band_names}\")\n",
    "# print(\"Band names: {}\".format(\", \".join(band_names)))\n",
    "str_band_n = \", \".join(band_names).split(\", \")\n",
    "print(f\"Cantidad de bandas: {len(str_band_n)}\\n\")\n",
    "# display(len(str_band_n), str_band_n)\n",
    "crs_raster = product.getSceneCRS()\n",
    "geocod_raster = product.getSceneGeoCoding()"
   ]
  },
  {
   "cell_type": "code",
   "execution_count": 5,
   "id": "57b4475a-d127-4f2d-83d7-b2d5613da0d9",
   "metadata": {},
   "outputs": [],
   "source": [
    "def find_xml_files(start_dir):\n",
    "    \"\"\"\n",
    "    Recursively finds all .xml files in a directory and its subdirectories\n",
    "    Returns list of absolute file paths\n",
    "    \"\"\"\n",
    "    xml_files = []\n",
    "    for root, dirs, files in os.walk(start_dir):\n",
    "        for file in files:\n",
    "            if file.lower().endswith('.xml'):\n",
    "                full_path = os.path.join(root, file)\n",
    "                xml_files.append(full_path)\n",
    "    return xml_files"
   ]
  },
  {
   "cell_type": "code",
   "execution_count": 6,
   "id": "19303665-9182-4cbf-a3e2-4fc8b8ffeb8b",
   "metadata": {},
   "outputs": [
    {
     "data": {
      "text/plain": [
       "['./S2A_MSIL2A_20250112T134701_N0511_R024_T21HUA_20250112T183356.SAFE/MTD_MSIL2A.xml']"
      ]
     },
     "metadata": {},
     "output_type": "display_data"
    }
   ],
   "source": [
    "# Extract just MTD_MSIL2A.xml and rewrite it as Deepseek told me.\n",
    "# Extract a specific file\n",
    "with zipfile.ZipFile(path4dev, 'r') as zip_ref:\n",
    "    zip_ref.extract(file2extract, '.')\n",
    "\n",
    "# listo archivo xml en directorio base\n",
    "xml_list_extracted = find_xml_files('.')\n",
    "\n",
    "display(xml_list_extracted)"
   ]
  },
  {
   "cell_type": "code",
   "execution_count": 7,
   "id": "045b02a1-7768-4cd3-8e9e-2f0e356fbeee",
   "metadata": {},
   "outputs": [],
   "source": [
    "# Copy original file to save the original info\n",
    "def copy_file_with_new_name(src_file, extension):\n",
    "    \"\"\"\n",
    "    Copies a file to a new location with a different name\n",
    "    \n",
    "    Args:\n",
    "        src_file (str): Path to source file\n",
    "        dest_dir (str): Destination directory\n",
    "        new_name (str): New filename (without path)\n",
    "    \"\"\"\n",
    "    # Create destination directory if it doesn't exist\n",
    "    # os.makedirs(dest_dir, exist_ok=True)\n",
    "    folder2copy = os.path.dirname(src_file)\n",
    "    orig_file_name = os.path.basename(src_file).split('.')\n",
    "    new_name = orig_file_name[0] + extension + orig_file_name[1]\n",
    "    # new_path = os.path.join(folder2copy, new_name)\n",
    "    \n",
    "    # Build full destination path\n",
    "    dest_file = os.path.join(folder2copy, new_name)\n",
    "    \n",
    "    # Copy the file\n",
    "    with open(src_file, 'rb') as src, open(dest_file, 'wb') as dst:\n",
    "        dst.write(src.read())\n",
    "    \n",
    "    return dest_file\n",
    "\n",
    "def create_path(src_file, extension):\n",
    "    # Create destination directory if it doesn't exist\n",
    "    # os.makedirs(dest_dir, exist_ok=True)\n",
    "    folder2copy = os.path.dirname(src_file)\n",
    "    orig_file_name = os.path.basename(src_file).split('.')\n",
    "    new_name = orig_file_name[0] + extension + orig_file_name[1]\n",
    "    # new_path = os.path.join(folder2copy, new_name)\n",
    "    \n",
    "    # Build full destination path\n",
    "    dest_file = os.path.join(folder2copy, new_name)\n",
    "    \n",
    "    return dest_file\n",
    "\n"
   ]
  },
  {
   "cell_type": "code",
   "execution_count": 8,
   "id": "99c3165f-5b19-4fe8-aed4-cdc319cffe4d",
   "metadata": {},
   "outputs": [],
   "source": [
    "pathched_path = create_path(xml_list_extracted[0], '_patched')"
   ]
  },
  {
   "cell_type": "code",
   "execution_count": 9,
   "id": "9ef804ed-8876-4a16-b2a2-2d47e9876228",
   "metadata": {},
   "outputs": [
    {
     "ename": "AttributeError",
     "evalue": "'NoneType' object has no attribute 'text'",
     "output_type": "error",
     "traceback": [
      "\u001b[0;31m---------------------------------------------------------------------------\u001b[0m",
      "\u001b[0;31mAttributeError\u001b[0m                            Traceback (most recent call last)",
      "Cell \u001b[0;32mIn[9], line 11\u001b[0m\n\u001b[1;32m      8\u001b[0m product_info \u001b[38;5;241m=\u001b[39m ET\u001b[38;5;241m.\u001b[39mSubElement(general_info, \u001b[38;5;124m'\u001b[39m\u001b[38;5;124mProduct_Info\u001b[39m\u001b[38;5;124m'\u001b[39m)\n\u001b[1;32m     10\u001b[0m \u001b[38;5;66;03m# Copy critical metadata from new format\u001b[39;00m\n\u001b[0;32m---> 11\u001b[0m sensing_time \u001b[38;5;241m=\u001b[39m \u001b[43mroot\u001b[49m\u001b[38;5;241;43m.\u001b[39;49m\u001b[43mfind\u001b[49m\u001b[43m(\u001b[49m\u001b[38;5;124;43m'\u001b[39;49m\u001b[38;5;124;43m.//SENSING_TIME\u001b[39;49m\u001b[38;5;124;43m'\u001b[39;49m\u001b[43m)\u001b[49m\u001b[38;5;241;43m.\u001b[39;49m\u001b[43mtext\u001b[49m\n\u001b[1;32m     12\u001b[0m product_uri \u001b[38;5;241m=\u001b[39m root\u001b[38;5;241m.\u001b[39mfind(\u001b[38;5;124m'\u001b[39m\u001b[38;5;124m.//PRODUCT_URI\u001b[39m\u001b[38;5;124m'\u001b[39m)\u001b[38;5;241m.\u001b[39mtext\n\u001b[1;32m     14\u001b[0m ET\u001b[38;5;241m.\u001b[39mSubElement(product_info, \u001b[38;5;124m'\u001b[39m\u001b[38;5;124mPRODUCT_START_TIME\u001b[39m\u001b[38;5;124m'\u001b[39m)\u001b[38;5;241m.\u001b[39mtext \u001b[38;5;241m=\u001b[39m sensing_time\n",
      "\u001b[0;31mAttributeError\u001b[0m: 'NoneType' object has no attribute 'text'"
     ]
    }
   ],
   "source": [
    "# Load the XML file\n",
    "tree = ET.parse(xml_list_extracted[0])\n",
    "root = tree.getroot()\n",
    "\n",
    "# Add legacy <General_Info> section (required by SNAP 9)\n",
    "if not root.find('General_Info'):\n",
    "    general_info = ET.SubElement(root, 'General_Info')\n",
    "    product_info = ET.SubElement(general_info, 'Product_Info')\n",
    "    \n",
    "    # Copy critical metadata from new format\n",
    "    sensing_time = root.find('.//SENSING_TIME').text\n",
    "    product_uri = root.find('.//PRODUCT_URI').text\n",
    "    \n",
    "    ET.SubElement(product_info, 'PRODUCT_START_TIME').text = sensing_time\n",
    "    ET.SubElement(product_info, 'PRODUCT_URI').text = product_uri\n",
    "\n",
    "# Save the modified file\n",
    "tree.write(pathched_path, encoding='UTF-8', xml_declaration=True)"
   ]
  }
 ],
 "metadata": {
  "kernelspec": {
   "display_name": "Python 3 (ipykernel)",
   "language": "python",
   "name": "python3"
  },
  "language_info": {
   "codemirror_mode": {
    "name": "ipython",
    "version": 3
   },
   "file_extension": ".py",
   "mimetype": "text/x-python",
   "name": "python",
   "nbconvert_exporter": "python",
   "pygments_lexer": "ipython3",
   "version": "3.10.12"
  }
 },
 "nbformat": 4,
 "nbformat_minor": 5
}
