{
 "cells": [
  {
   "cell_type": "markdown",
   "id": "6278efe3",
   "metadata": {},
   "source": [
    "# Objetivo: Note base que implementa funciones para script procesador de productos\n",
    "# Autor: Gustavo V. Diaz\n",
    "# Fecha: 22/09/2024"
   ]
  },
  {
   "cell_type": "markdown",
   "id": "76014dee",
   "metadata": {},
   "source": [
    "### Descripción\n",
    "Script base que servirá para copiar y pegar esctructura general y funciones desarrolladas en módulo especializado para las tareas necesarias.\n",
    "\n",
    "Se parte de la hipótesis de tener definido un dataframe que contenga la búsqueda realizada por \"searcher_filt.py\" junto con el kml de búsqueda inicial. Posteriormente se irá recorriendo el dataframe para:\n",
    "1. Bajar producto\n",
    "2. Recortarlo\n",
    "3. Ingresar polígono de búsqueda a producto SNAP\n",
    "4. Aplicar resize a producto SNAP\n",
    "5. Enmascarar cirros\n",
    "6. Enmascarar por ROI de búsqueda\n",
    "7. Procesar por NDVI o RGB\n",
    "8. Entregar salida según se requiera en el paso 7\n",
    "\n",
    "#### Entrada\n",
    "1. df de productos a bajar (en csv o pkl)\n",
    "2. Ruta kml de búsqueda\n",
    "\n",
    "#### Salida\n",
    "\n",
    "1. Carpeta de salida\n",
    "    1. Composiciones RGB\n",
    "        1. Tiff\n",
    "        1. png\n",
    "    2. Tabla metadatos\n",
    "        1. Productos\n",
    "            1. Id\n",
    "            2. acq_date\n",
    "            3. Tiff_Prod_name (salida)\n",
    "            4. Ruta a Tiff_Prod_name\n",
    "        2. Configuración\n",
    "            1. Configuración de búsqueda\n",
    "            2. Cantidad de productos procesados\n",
    "            3. Fecha inicio análisis\n",
    "            4. Fecha fin análisis\n",
    "            5. Fecha procesamiento\n",
    "            6. Nombre ROI"
   ]
  }
 ],
 "metadata": {
  "kernelspec": {
   "display_name": "Python 3",
   "language": "python",
   "name": "python3"
  },
  "language_info": {
   "codemirror_mode": {
    "name": "ipython",
    "version": 3
   },
   "file_extension": ".py",
   "mimetype": "text/x-python",
   "name": "python",
   "nbconvert_exporter": "python",
   "pygments_lexer": "ipython3",
   "version": "3.6.15"
  }
 },
 "nbformat": 4,
 "nbformat_minor": 5
}
