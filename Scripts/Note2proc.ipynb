{
 "cells": [
  {
   "cell_type": "markdown",
   "id": "6278efe3",
   "metadata": {},
   "source": [
    "# Objetivo: Note base que implementa funciones para script procesador de productos\n",
    "# Autor: Gustavo V. Diaz\n",
    "# Fecha: 22/09/2024"
   ]
  },
  {
   "cell_type": "markdown",
   "id": "76014dee",
   "metadata": {},
   "source": [
    "### Descripción\n",
    "Script base que servirá para copiar y pegar esctructura general y funciones desarrolladas en módulo especializado para las tareas necesarias.\n",
    "\n",
    "Se parte de la hipótesis de tener definido un dataframe que contenga la búsqueda realizada por \"searcher_filt.py\" junto con el kml de búsqueda inicial. Posteriormente se irá recorriendo el dataframe para:\n",
    "1. Bajar producto\n",
    "2. Recortarlo\n",
    "3. Ingresar polígono de búsqueda a producto SNAP\n",
    "4. Aplicar resize a producto SNAP\n",
    "5. Enmascarar cirros\n",
    "6. Enmascarar por ROI de búsqueda\n",
    "7. Procesar por NDVI o RGB\n",
    "8. Entregar salida según se requiera en el paso 7\n",
    "\n",
    "#### Entrada\n",
    "1. df de productos a bajar (en csv o pkl)\n",
    "2. Ruta kml de búsqueda\n",
    "\n",
    "#### Salida\n",
    "\n",
    "1. Carpeta de salida\n",
    "    1. Composiciones RGB\n",
    "        1. Tiff\n",
    "        1. png\n",
    "    2. Tabla metadatos\n",
    "        1. Productos\n",
    "            1. Id\n",
    "            2. acq_date\n",
    "            3. Tiff_Prod_name (salida)\n",
    "            4. Ruta a Tiff_Prod_name\n",
    "        2. Configuración\n",
    "            1. Configuración de búsqueda\n",
    "            2. Cantidad de productos procesados\n",
    "            3. Fecha inicio análisis\n",
    "            4. Fecha fin análisis\n",
    "            5. Fecha procesamiento\n",
    "            6. Nombre ROI"
   ]
  },
  {
   "cell_type": "code",
   "execution_count": 1,
   "id": "bf30dbc1",
   "metadata": {},
   "outputs": [],
   "source": [
    "# Declaración de módulos necesarios\n",
    "# Para lectura de csv\n",
    "import pandas as pd\n",
    "import sys\n",
    "import os\n",
    "import configparser\n",
    "\n",
    "# sys.path.append(r'../utils')\n",
    "# import mod_search_filt as msf\n",
    "\n",
    "# Declaración de variables para configuración\n",
    "input_path = r'/src/output/research_20240928T190500_Tratayen.csv'\n",
    "input_path_pkl = r'/src/output/research_20240928T190500_Tratayen.pkl'\n",
    "verbose = True\n",
    "kml_path = r'/src/Vectores/Tratayen.kml'\n",
    "\n",
    "# Lectura de configurador de procesador\n",
    "# Script para generar request de búsqueda y filtrado de productos Sentinel-2\n",
    "\n",
    "# import mod_search_filt as msf"
   ]
  },
  {
   "cell_type": "code",
   "execution_count": 2,
   "id": "f497f65f",
   "metadata": {},
   "outputs": [],
   "source": [
    "# Creación o lectura de archivo de configuración\n",
    "def read_conf_proc(path2conf, verbose):\n",
    "    if not(os.path.exists(path2conf)):\n",
    "        create_conf_file_proc(path2conf)\n",
    "    if verbose:\n",
    "        with open(path2conf, 'r') as file:\n",
    "            # Read the content of the file\n",
    "            file_content = file.read()\n",
    "            # Print the content\n",
    "            print(\"File Content:\\n\", file_content)\n",
    "    conf2dict = configparser.ConfigParser()\n",
    "    with open(path2conf,\"r\") as file:\n",
    "        conf2dict.read_file(file)\n",
    "    # conf2dict.read_file(path2conf)\n",
    "    return {s:dict(conf2dict.items(s)) for s in conf2dict.sections()}\n",
    "\n",
    "def create_conf_file_proc(path2conf):\n",
    "    # Configuración inicial\n",
    "    # ROI*\n",
    "    # Fecha de inicio de búsqueda\n",
    "    # Fecha de fin de búsqueda\n",
    "    # Tipo de producto Sentinel\n",
    "    # Porcentaje de nubosidad límite\n",
    "    # Nombre de proyecto relacionado\n",
    "    dict_gen = {\n",
    "        'FOLDERS': {\n",
    "            ';Prueba de comentarios para FOLDERS':None,\n",
    "            'ROI': r'/src/Vectores/',\n",
    "            'OUTPUT': '/src/Output/'\n",
    "        },\n",
    "        'ATTRIB': {\n",
    "            ';Prueba de comentarios para ATTRIB':None,\n",
    "            'init_date':'01-01-2019',\n",
    "            'final_date':'31-01-2021',\n",
    "            'max_cloud':'50',\n",
    "            'Sent_mission':'MSIL2A',\n",
    "            'proj_name':'Your name'\n",
    "        },\n",
    "        'ESA_SERVER': {\n",
    "            ';Prueba de comentarios para ESA_SERVER':None,\n",
    "            'url':'https://catalogue.dataspace.copernicus.eu/odata/v1/Products',\n",
    "            'orderby': 'ContentDate/Start',\n",
    "            'top':'100'\n",
    "    },\n",
    "        'SCRIPTING':{\n",
    "            ';Configuración para aplicar en funciones':None,\n",
    "            'verbose': False\n",
    "        }\n",
    "    }\n",
    "    with open(path2conf,\"w\") as file:\n",
    "    # file =open(\"employee1.ini\",\"w\")\n",
    "        config_object = configparser.ConfigParser(allow_no_value=True)\n",
    "    # myDict={'employee': {'name': 'John Doe', 'age': '35'},\n",
    "    #         'job': {'title': 'Software Engineer', 'department': 'IT', 'years_of_experience': '10'},\n",
    "    #         'address': {'street': '123 Main St.', 'city': 'San Francisco', 'state': 'CA', 'zip': '94102'}}\n",
    "        sections=dict_gen.keys()\n",
    "        for section in sections:\n",
    "            config_object.add_section(section)\n",
    "        for section in sections:\n",
    "            inner_dict=dict_gen[section]\n",
    "            fields=inner_dict.keys()\n",
    "            for field in fields:\n",
    "                value=inner_dict[field]\n",
    "                config_object.set(section, field, str(value))\n",
    "        config_object.write(file)\n",
    "    # file.close()\n",
    "    return None"
   ]
  },
  {
   "cell_type": "code",
   "execution_count": 5,
   "id": "63740c3a",
   "metadata": {},
   "outputs": [
    {
     "data": {
      "text/plain": [
       "{'FOLDERS': {'prods_list': '/src/Output/research_20241011T211427_Tratayen.csv',\n",
       "  'kml_input': '/src/Vectores/Tratayen.kml',\n",
       "  'wkt_roi': '/src/Vectores/aux_wkt/wkt_file.txt',\n",
       "  'output': '/src/Output/Del_Ru_20241011T211427'},\n",
       " 'ATTRIB': {'user': 'gus838@gmail.com',\n",
       "  'pass': 'Ul!RsPWTPuw3',\n",
       "  'proj_name': 'Del_Ru'},\n",
       " 'PROCESSOR': {'type': 'RGB'}}"
      ]
     },
     "metadata": {},
     "output_type": "display_data"
    },
    {
     "name": "stdout",
     "output_type": "stream",
     "text": [
      "/src/output/research_20240928T190500_Tratayen.csv\n",
      "/src/Output/research_20241011T211427_Tratayen.csv\n",
      "/src/Vectores/Tratayen.kml\n",
      "/src/Vectores/Tratayen.kml\n"
     ]
    }
   ],
   "source": [
    "# Cuerpo de script a ejecutar\n",
    "\n",
    "config_path = r'/src/utils/CONF_PROC.INI'\n",
    "\n",
    "verbose2conf = False\n",
    "# Lectura de archivo de configuración de búsqueda\n",
    "conf_dict = read_conf_proc(config_path, verbose2conf)\n",
    "\n",
    "display(conf_dict)\n",
    "\n",
    "# Reescribo variables a partir de conf_dict recién escrito\n",
    "input_path = r'/src/output/research_20240928T190500_Tratayen.csv'\n",
    "print(input_path, conf_dict['FOLDERS']['prods_list'], sep='\\n')\n",
    "# input_path_pkl = r'/src/output/research_20240928T190500_Tratayen.pkl'\n",
    "# print(input_path_pkl, conf_dict['FOLDERS']['prods_list'])\n",
    "# verbose = True\n",
    "kml_path = r'/src/Vectores/Tratayen.kml'\n",
    "print(kml_path, conf_dict['FOLDERS']['kml_input'], sep='\\n')"
   ]
  },
  {
   "cell_type": "code",
   "execution_count": 7,
   "id": "cd5a8d18",
   "metadata": {},
   "outputs": [],
   "source": [
    "# Lectura de dataframes de búsqueda a partir del csv\n",
    "\n",
    "def lectura_csv(path, verbose):\n",
    "    df = pd.read_csv(path)\n",
    "    if verbose:\n",
    "        print(f'Muestro variable path de función {lectura_csv.__name__}')\n",
    "        print()\n",
    "        display(df)\n",
    "    return df\n",
    "\n",
    "def lectura_pkl(path, verbose):\n",
    "    df = pd.read_pickle(path)\n",
    "    if verbose:\n",
    "        print(f'Muestro variable path de función {lectura_csv.__name__}')\n",
    "        print()\n",
    "        display(df)\n",
    "    return df"
   ]
  },
  {
   "cell_type": "code",
   "execution_count": 8,
   "id": "74322bdd",
   "metadata": {},
   "outputs": [
    {
     "ename": "FileNotFoundError",
     "evalue": "[Errno 2] No such file or directory: '/src/Output/research_20241011T211427_Tratayen.csv'",
     "output_type": "error",
     "traceback": [
      "\u001b[0;31m---------------------------------------------------------------------------\u001b[0m",
      "\u001b[0;31mFileNotFoundError\u001b[0m                         Traceback (most recent call last)",
      "\u001b[0;32m<ipython-input-8-e3c4af676b99>\u001b[0m in \u001b[0;36m<module>\u001b[0;34m\u001b[0m\n\u001b[0;32m----> 1\u001b[0;31m \u001b[0mdf\u001b[0m \u001b[0;34m=\u001b[0m \u001b[0mlectura_csv\u001b[0m\u001b[0;34m(\u001b[0m\u001b[0mconf_dict\u001b[0m\u001b[0;34m[\u001b[0m\u001b[0;34m'FOLDERS'\u001b[0m\u001b[0;34m]\u001b[0m\u001b[0;34m[\u001b[0m\u001b[0;34m'prods_list'\u001b[0m\u001b[0;34m]\u001b[0m\u001b[0;34m,\u001b[0m \u001b[0mverbose\u001b[0m\u001b[0;34m)\u001b[0m\u001b[0;34m\u001b[0m\u001b[0;34m\u001b[0m\u001b[0m\n\u001b[0m",
      "\u001b[0;32m<ipython-input-7-163b103aea6c>\u001b[0m in \u001b[0;36mlectura_csv\u001b[0;34m(path, verbose)\u001b[0m\n\u001b[1;32m      2\u001b[0m \u001b[0;34m\u001b[0m\u001b[0m\n\u001b[1;32m      3\u001b[0m \u001b[0;32mdef\u001b[0m \u001b[0mlectura_csv\u001b[0m\u001b[0;34m(\u001b[0m\u001b[0mpath\u001b[0m\u001b[0;34m,\u001b[0m \u001b[0mverbose\u001b[0m\u001b[0;34m)\u001b[0m\u001b[0;34m:\u001b[0m\u001b[0;34m\u001b[0m\u001b[0;34m\u001b[0m\u001b[0m\n\u001b[0;32m----> 4\u001b[0;31m     \u001b[0mdf\u001b[0m \u001b[0;34m=\u001b[0m \u001b[0mpd\u001b[0m\u001b[0;34m.\u001b[0m\u001b[0mread_csv\u001b[0m\u001b[0;34m(\u001b[0m\u001b[0mpath\u001b[0m\u001b[0;34m)\u001b[0m\u001b[0;34m\u001b[0m\u001b[0;34m\u001b[0m\u001b[0m\n\u001b[0m\u001b[1;32m      5\u001b[0m     \u001b[0;32mif\u001b[0m \u001b[0mverbose\u001b[0m\u001b[0;34m:\u001b[0m\u001b[0;34m\u001b[0m\u001b[0;34m\u001b[0m\u001b[0m\n\u001b[1;32m      6\u001b[0m         \u001b[0mprint\u001b[0m\u001b[0;34m(\u001b[0m\u001b[0;34mf'Muestro variable path de función {lectura_csv.__name__}'\u001b[0m\u001b[0;34m)\u001b[0m\u001b[0;34m\u001b[0m\u001b[0;34m\u001b[0m\u001b[0m\n",
      "\u001b[0;32m/opt/venv/lib/python3.6/site-packages/pandas/io/parsers.py\u001b[0m in \u001b[0;36mread_csv\u001b[0;34m(filepath_or_buffer, sep, delimiter, header, names, index_col, usecols, squeeze, prefix, mangle_dupe_cols, dtype, engine, converters, true_values, false_values, skipinitialspace, skiprows, skipfooter, nrows, na_values, keep_default_na, na_filter, verbose, skip_blank_lines, parse_dates, infer_datetime_format, keep_date_col, date_parser, dayfirst, cache_dates, iterator, chunksize, compression, thousands, decimal, lineterminator, quotechar, quoting, doublequote, escapechar, comment, encoding, dialect, error_bad_lines, warn_bad_lines, delim_whitespace, low_memory, memory_map, float_precision)\u001b[0m\n\u001b[1;32m    686\u001b[0m     )\n\u001b[1;32m    687\u001b[0m \u001b[0;34m\u001b[0m\u001b[0m\n\u001b[0;32m--> 688\u001b[0;31m     \u001b[0;32mreturn\u001b[0m \u001b[0m_read\u001b[0m\u001b[0;34m(\u001b[0m\u001b[0mfilepath_or_buffer\u001b[0m\u001b[0;34m,\u001b[0m \u001b[0mkwds\u001b[0m\u001b[0;34m)\u001b[0m\u001b[0;34m\u001b[0m\u001b[0;34m\u001b[0m\u001b[0m\n\u001b[0m\u001b[1;32m    689\u001b[0m \u001b[0;34m\u001b[0m\u001b[0m\n\u001b[1;32m    690\u001b[0m \u001b[0;34m\u001b[0m\u001b[0m\n",
      "\u001b[0;32m/opt/venv/lib/python3.6/site-packages/pandas/io/parsers.py\u001b[0m in \u001b[0;36m_read\u001b[0;34m(filepath_or_buffer, kwds)\u001b[0m\n\u001b[1;32m    452\u001b[0m \u001b[0;34m\u001b[0m\u001b[0m\n\u001b[1;32m    453\u001b[0m     \u001b[0;31m# Create the parser.\u001b[0m\u001b[0;34m\u001b[0m\u001b[0;34m\u001b[0m\u001b[0;34m\u001b[0m\u001b[0m\n\u001b[0;32m--> 454\u001b[0;31m     \u001b[0mparser\u001b[0m \u001b[0;34m=\u001b[0m \u001b[0mTextFileReader\u001b[0m\u001b[0;34m(\u001b[0m\u001b[0mfp_or_buf\u001b[0m\u001b[0;34m,\u001b[0m \u001b[0;34m**\u001b[0m\u001b[0mkwds\u001b[0m\u001b[0;34m)\u001b[0m\u001b[0;34m\u001b[0m\u001b[0;34m\u001b[0m\u001b[0m\n\u001b[0m\u001b[1;32m    455\u001b[0m \u001b[0;34m\u001b[0m\u001b[0m\n\u001b[1;32m    456\u001b[0m     \u001b[0;32mif\u001b[0m \u001b[0mchunksize\u001b[0m \u001b[0;32mor\u001b[0m \u001b[0miterator\u001b[0m\u001b[0;34m:\u001b[0m\u001b[0;34m\u001b[0m\u001b[0;34m\u001b[0m\u001b[0m\n",
      "\u001b[0;32m/opt/venv/lib/python3.6/site-packages/pandas/io/parsers.py\u001b[0m in \u001b[0;36m__init__\u001b[0;34m(self, f, engine, **kwds)\u001b[0m\n\u001b[1;32m    946\u001b[0m             \u001b[0mself\u001b[0m\u001b[0;34m.\u001b[0m\u001b[0moptions\u001b[0m\u001b[0;34m[\u001b[0m\u001b[0;34m\"has_index_names\"\u001b[0m\u001b[0;34m]\u001b[0m \u001b[0;34m=\u001b[0m \u001b[0mkwds\u001b[0m\u001b[0;34m[\u001b[0m\u001b[0;34m\"has_index_names\"\u001b[0m\u001b[0;34m]\u001b[0m\u001b[0;34m\u001b[0m\u001b[0;34m\u001b[0m\u001b[0m\n\u001b[1;32m    947\u001b[0m \u001b[0;34m\u001b[0m\u001b[0m\n\u001b[0;32m--> 948\u001b[0;31m         \u001b[0mself\u001b[0m\u001b[0;34m.\u001b[0m\u001b[0m_make_engine\u001b[0m\u001b[0;34m(\u001b[0m\u001b[0mself\u001b[0m\u001b[0;34m.\u001b[0m\u001b[0mengine\u001b[0m\u001b[0;34m)\u001b[0m\u001b[0;34m\u001b[0m\u001b[0;34m\u001b[0m\u001b[0m\n\u001b[0m\u001b[1;32m    949\u001b[0m \u001b[0;34m\u001b[0m\u001b[0m\n\u001b[1;32m    950\u001b[0m     \u001b[0;32mdef\u001b[0m \u001b[0mclose\u001b[0m\u001b[0;34m(\u001b[0m\u001b[0mself\u001b[0m\u001b[0;34m)\u001b[0m\u001b[0;34m:\u001b[0m\u001b[0;34m\u001b[0m\u001b[0;34m\u001b[0m\u001b[0m\n",
      "\u001b[0;32m/opt/venv/lib/python3.6/site-packages/pandas/io/parsers.py\u001b[0m in \u001b[0;36m_make_engine\u001b[0;34m(self, engine)\u001b[0m\n\u001b[1;32m   1178\u001b[0m     \u001b[0;32mdef\u001b[0m \u001b[0m_make_engine\u001b[0m\u001b[0;34m(\u001b[0m\u001b[0mself\u001b[0m\u001b[0;34m,\u001b[0m \u001b[0mengine\u001b[0m\u001b[0;34m=\u001b[0m\u001b[0;34m\"c\"\u001b[0m\u001b[0;34m)\u001b[0m\u001b[0;34m:\u001b[0m\u001b[0;34m\u001b[0m\u001b[0;34m\u001b[0m\u001b[0m\n\u001b[1;32m   1179\u001b[0m         \u001b[0;32mif\u001b[0m \u001b[0mengine\u001b[0m \u001b[0;34m==\u001b[0m \u001b[0;34m\"c\"\u001b[0m\u001b[0;34m:\u001b[0m\u001b[0;34m\u001b[0m\u001b[0;34m\u001b[0m\u001b[0m\n\u001b[0;32m-> 1180\u001b[0;31m             \u001b[0mself\u001b[0m\u001b[0;34m.\u001b[0m\u001b[0m_engine\u001b[0m \u001b[0;34m=\u001b[0m \u001b[0mCParserWrapper\u001b[0m\u001b[0;34m(\u001b[0m\u001b[0mself\u001b[0m\u001b[0;34m.\u001b[0m\u001b[0mf\u001b[0m\u001b[0;34m,\u001b[0m \u001b[0;34m**\u001b[0m\u001b[0mself\u001b[0m\u001b[0;34m.\u001b[0m\u001b[0moptions\u001b[0m\u001b[0;34m)\u001b[0m\u001b[0;34m\u001b[0m\u001b[0;34m\u001b[0m\u001b[0m\n\u001b[0m\u001b[1;32m   1181\u001b[0m         \u001b[0;32melse\u001b[0m\u001b[0;34m:\u001b[0m\u001b[0;34m\u001b[0m\u001b[0;34m\u001b[0m\u001b[0m\n\u001b[1;32m   1182\u001b[0m             \u001b[0;32mif\u001b[0m \u001b[0mengine\u001b[0m \u001b[0;34m==\u001b[0m \u001b[0;34m\"python\"\u001b[0m\u001b[0;34m:\u001b[0m\u001b[0;34m\u001b[0m\u001b[0;34m\u001b[0m\u001b[0m\n",
      "\u001b[0;32m/opt/venv/lib/python3.6/site-packages/pandas/io/parsers.py\u001b[0m in \u001b[0;36m__init__\u001b[0;34m(self, src, **kwds)\u001b[0m\n\u001b[1;32m   2008\u001b[0m         \u001b[0mkwds\u001b[0m\u001b[0;34m[\u001b[0m\u001b[0;34m\"usecols\"\u001b[0m\u001b[0;34m]\u001b[0m \u001b[0;34m=\u001b[0m \u001b[0mself\u001b[0m\u001b[0;34m.\u001b[0m\u001b[0musecols\u001b[0m\u001b[0;34m\u001b[0m\u001b[0;34m\u001b[0m\u001b[0m\n\u001b[1;32m   2009\u001b[0m \u001b[0;34m\u001b[0m\u001b[0m\n\u001b[0;32m-> 2010\u001b[0;31m         \u001b[0mself\u001b[0m\u001b[0;34m.\u001b[0m\u001b[0m_reader\u001b[0m \u001b[0;34m=\u001b[0m \u001b[0mparsers\u001b[0m\u001b[0;34m.\u001b[0m\u001b[0mTextReader\u001b[0m\u001b[0;34m(\u001b[0m\u001b[0msrc\u001b[0m\u001b[0;34m,\u001b[0m \u001b[0;34m**\u001b[0m\u001b[0mkwds\u001b[0m\u001b[0;34m)\u001b[0m\u001b[0;34m\u001b[0m\u001b[0;34m\u001b[0m\u001b[0m\n\u001b[0m\u001b[1;32m   2011\u001b[0m         \u001b[0mself\u001b[0m\u001b[0;34m.\u001b[0m\u001b[0munnamed_cols\u001b[0m \u001b[0;34m=\u001b[0m \u001b[0mself\u001b[0m\u001b[0;34m.\u001b[0m\u001b[0m_reader\u001b[0m\u001b[0;34m.\u001b[0m\u001b[0munnamed_cols\u001b[0m\u001b[0;34m\u001b[0m\u001b[0;34m\u001b[0m\u001b[0m\n\u001b[1;32m   2012\u001b[0m \u001b[0;34m\u001b[0m\u001b[0m\n",
      "\u001b[0;32mpandas/_libs/parsers.pyx\u001b[0m in \u001b[0;36mpandas._libs.parsers.TextReader.__cinit__\u001b[0;34m()\u001b[0m\n",
      "\u001b[0;32mpandas/_libs/parsers.pyx\u001b[0m in \u001b[0;36mpandas._libs.parsers.TextReader._setup_parser_source\u001b[0;34m()\u001b[0m\n",
      "\u001b[0;31mFileNotFoundError\u001b[0m: [Errno 2] No such file or directory: '/src/Output/research_20241011T211427_Tratayen.csv'"
     ]
    }
   ],
   "source": [
    "df = lectura_csv(conf_dict['FOLDERS']['prods_list'], verbose)"
   ]
  },
  {
   "cell_type": "code",
   "execution_count": 4,
   "id": "cc03838a",
   "metadata": {},
   "outputs": [],
   "source": [
    "# Prueba para lectura de df en pkl, no pude leerla\n",
    "# lectura_pkl(input_path_pkl, verbose)\n",
    "# Error: ValueError: unsupported pickle protocol: 5"
   ]
  },
  {
   "cell_type": "code",
   "execution_count": 5,
   "id": "d9e17301",
   "metadata": {},
   "outputs": [
    {
     "name": "stdout",
     "output_type": "stream",
     "text": [
      "33a0f98c-5167-5a72-9fb9-0ed7fbb231bc\n",
      "S2B_MSIL2A_20230107T141709_N0509_R010_T19HET_20230107T181706.SAFE\n",
      "\n"
     ]
    }
   ],
   "source": [
    "# Iteración sobre todos los productos\n",
    "# Dejo una configuración que me permitirá solo procesar el primer producto,\\\n",
    "# cuando verifique que funciona dehabilitaré la función para que procese todos los productos de la misma manera que el primero\n",
    "flag_one_proc = True\n",
    "for row in df.iterrows():\n",
    "    print(row[1]['Id'])\n",
    "    print(row[1]['Name'] + '\\n')\n",
    "    \n",
    "    if flag_one_proc == True:\n",
    "        break\n",
    "    "
   ]
  }
 ],
 "metadata": {
  "kernelspec": {
   "display_name": "Python 3",
   "language": "python",
   "name": "python3"
  },
  "language_info": {
   "codemirror_mode": {
    "name": "ipython",
    "version": 3
   },
   "file_extension": ".py",
   "mimetype": "text/x-python",
   "name": "python",
   "nbconvert_exporter": "python",
   "pygments_lexer": "ipython3",
   "version": "3.6.15"
  }
 },
 "nbformat": 4,
 "nbformat_minor": 5
}
