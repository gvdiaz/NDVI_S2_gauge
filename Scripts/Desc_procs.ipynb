{
 "cells": [
  {
   "cell_type": "markdown",
   "id": "ccae7698-3612-4b71-af6d-f6d7b1cdc1f1",
   "metadata": {},
   "source": [
    "Descripción de tipos de procesadores\n",
    "\n",
    "Se diseñará dos tipos de procesadores.\n",
    "\n",
    "Un presentador de resultados de búsqueda con los productos satelitales posibles filtrados y ordenados por criterio de porcentaje de nubosidad y fecha.\n",
    "Los requerimientos a tener en cuenta para realizar la búsqueda son:\n",
    "* ROI\n",
    "* Fecha de inicio de búsqueda\n",
    "* Fecha de fin de búsqueda\n",
    "* Tipo de producto Sentinel\n",
    "* Porcentaje de nubosidad límite\n",
    "* Nombre de proyecto relacionado\n",
    "\n",
    "# Descripción ROI\n",
    "Ingresar Nombre de dato vectorial (o nombre de archivo de dato vectorial) cumpliendo con los siguientes requerimientos:\n",
    "* Tipo: ESRI Shapefile, kml\n",
    "* Proyección: EPSG 4326\n",
    "\n",
    "Por otro lado un bajador de imágenes a partir de ingreso de requerimientos similar al presentador\n",
    "* ROI\n",
    "* Fecha de inicio de búsqueda\n",
    "* Fecha de fin de búsqueda\n",
    "* Tipo de producto Sentinel\n",
    "* Porcentaje de nubosidad límite\n",
    "* Nombre de proyecto relacionado\n",
    "* Cantidad tentativa\n",
    "\n",
    "Es\n"
   ]
  }
 ],
 "metadata": {
  "kernelspec": {
   "display_name": "Python 3 (ipykernel)",
   "language": "python",
   "name": "python3"
  },
  "language_info": {
   "codemirror_mode": {
    "name": "ipython",
    "version": 3
   },
   "file_extension": ".py",
   "mimetype": "text/x-python",
   "name": "python",
   "nbconvert_exporter": "python",
   "pygments_lexer": "ipython3",
   "version": "3.10.12"
  }
 },
 "nbformat": 4,
 "nbformat_minor": 5
}
