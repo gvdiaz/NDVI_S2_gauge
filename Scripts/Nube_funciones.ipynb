{
 "cells": [
  {
   "cell_type": "markdown",
   "metadata": {},
   "source": [
    "# Objetivo: Desarrollo de funciones en general\n",
    "# Fecha: 04/05/2024"
   ]
  },
  {
   "cell_type": "markdown",
   "metadata": {},
   "source": [
    "## Funciones orientadas a crear strings de búsqueda en plataforma de la ESA\n",
    "### Función 1:\n",
    "#### Objetivo: disponer de string que cumpla con el formato del siguiente ejemplo,\n",
    "\n",
    "``` python\n",
    "\"gt 2022-03-03T00:00:00.000Z\"\n",
    "```\n",
    "\n",
    "#### Requerimientos\n",
    "\n",
    "##### Entrada\n",
    "\n",
    "Para reproducir esta cadena se debe establecer como entrada dos aspectos: \n",
    "1. Si la búsqueda es mayor a (\"gt\") o menor a (\"lt\") de la fecha especificada\n",
    "2. La fecha en cuestión con el formato de %Y-%M-%DT%H:%M:$S.f[-3]%z (Tentativo hasta probarlo)\n",
    "\n",
    "##### Salida\n",
    "\n",
    "Y la salida debe entregar una cadena con la conjunción de ambas informaciones a partir de la información de entrada,\n",
    "\n",
    "```python\n",
    "\"(tipo de búsqueda, \"gt\" o \"lt\") + (fecha en formato cadena)\"\n",
    "```"
   ]
  },
  {
   "cell_type": "code",
   "execution_count": 1,
   "metadata": {},
   "outputs": [],
   "source": [
    "# Importaciones para cambio horario de fecha y hora de UTC 0 a UTC -3\n",
    "from datetime import datetime\n",
    "import pytz\n",
    "\n"
   ]
  },
  {
   "cell_type": "code",
   "execution_count": 2,
   "metadata": {},
   "outputs": [
    {
     "name": "stdout",
     "output_type": "stream",
     "text": [
      "Fecha de hoy en sincro con UTC: 2024-06-09 20:36:41.002151\n",
      "Fecha de hoy con %c: Sun Jun  9 20:36:41 2024\n",
      "\n",
      "ISO Date Format: 2024-06-09 17:36:41-0300 (-03)\n",
      "\n",
      "Formato 1: 2024-06-09 17:36:41\n",
      "\n",
      "Zona horaria de America/Argentina/Buenos_Aires\n"
     ]
    }
   ],
   "source": [
    "# Prueba con ahora aquí y en Buenos Aires\n",
    "\n",
    "# Aquí\n",
    "x_date = datetime.now()\n",
    "print('Fecha de hoy en sincro con UTC:', x_date)\n",
    "print(\"Fecha de hoy con %c:\", x_date.strftime(\"%c\"))\n",
    "\n",
    "# Buenos Aires\n",
    "## Muestro ciudades de Buenos Aires\n",
    "utc_arg_list = list(pytz.country_timezones['AR'])\n",
    "# display(utc_arg_list)\n",
    "# print(type(utc_arg_list[0]))\n",
    "str_bsas = utc_arg_list[0]\n",
    "# Muestro hora en nuestra banda horaria\n",
    "tz_bsas = pytz.timezone(str_bsas)\n",
    "\n",
    "t_utc = x_date.timestamp()\n",
    "\n",
    "t_utc_bsas = datetime.fromtimestamp(t_utc, tz_bsas)\n",
    "print('\\nISO Date Format:', t_utc_bsas.strftime('%Y-%m-%d %H:%M:%S%z (%Z)'))\n",
    "print('\\nFormato 1:', t_utc_bsas.strftime('%Y-%m-%d %H:%M:%S'))\n",
    "print(f\"\\nZona horaria de {str_bsas}\")\n"
   ]
  },
  {
   "cell_type": "code",
   "execution_count": 3,
   "metadata": {},
   "outputs": [],
   "source": [
    "def get_time_format_req(date_data, verbose):\n",
    "# Función para pasar dato de horario a str de salida con formato requerido para hora\n",
    "    str_date = date_data.strftime('%Y-%m-%dT%H:%M:%S.%f')[:-3] + 'Z'\n",
    "    if verbose:\n",
    "        print(str_date)\n",
    "    return str_date\n"
   ]
  },
  {
   "cell_type": "code",
   "execution_count": 4,
   "metadata": {},
   "outputs": [
    {
     "name": "stdout",
     "output_type": "stream",
     "text": [
      "2024-06-09T17:36:41.002Z\n"
     ]
    }
   ],
   "source": [
    "# Prueba de función 1\n",
    "print(get_time_format_req(t_utc_bsas, False))"
   ]
  },
  {
   "cell_type": "markdown",
   "metadata": {},
   "source": [
    "Requerimiento para definir si se escribe \"gt\" o \"lt\".\n",
    "\n",
    "Si se define la fecha ingresada como inicial se debe colocar \"gt\".\n",
    "\n",
    "En caso de que la fecha ingresada sea final se debe colocar \"lt\""
   ]
  },
  {
   "cell_type": "code",
   "execution_count": 5,
   "metadata": {},
   "outputs": [],
   "source": [
    "# Definición de entradas de función\n",
    "date_type = ['inicial', 'final']\n"
   ]
  },
  {
   "cell_type": "markdown",
   "metadata": {},
   "source": [
    "<!-- ## Funciones orientadas a crear strings de búsqueda en plataforma de la ESA -->\n",
    "### Función 2:\n",
    "#### Objetivo: Disponer de geometría en formato WKT según escrito bajo la siguiente base\n",
    "\n",
    "``` python\n",
    "\"gt 2022-03-03T00:00:00.000Z\"\n",
    "```\n",
    "\n",
    "#### Requerimientos\n",
    "\n",
    "##### Entrada\n",
    "\n",
    "Para reproducir esta cadena se debe establecer como entrada dos aspectos: \n",
    "1. Si la búsqueda es mayor a (\"gt\") o menor a (\"lt\") de la fecha especificada\n",
    "2. La fecha en cuestión con el formato de %Y-%M-%DT%H:%M:$S.f[-3]%z (Tentativo hasta probarlo)\n",
    "\n",
    "##### Salida\n",
    "\n",
    "Y la salida debe entregar una cadena con la conjunción de ambas informaciones a partir de la información de entrada,\n",
    "\n",
    "```python\n",
    "\"(tipo de búsqueda, \"gt\" o \"lt\") + (fecha en formato cadena)\"\n",
    "```"
   ]
  },
  {
   "cell_type": "code",
   "execution_count": 6,
   "metadata": {},
   "outputs": [],
   "source": [
    "from osgeo import ogr\n",
    "import sys"
   ]
  },
  {
   "cell_type": "code",
   "execution_count": 7,
   "metadata": {},
   "outputs": [],
   "source": [
    "fn = r'/src/Vectores/Campo_Atahona.kml'\n",
    "fn_2 = r'/src/Vectores/Campos_test.shp'"
   ]
  },
  {
   "cell_type": "code",
   "execution_count": 8,
   "metadata": {
    "scrolled": true
   },
   "outputs": [
    {
     "name": "stdout",
     "output_type": "stream",
     "text": [
      "AVCBin\n",
      "AVCE00\n",
      "AmigoCloud\n",
      "BAG\n",
      "CAD\n",
      "CSV\n",
      "CSW\n",
      "Carto\n",
      "DGN\n",
      "DXF\n",
      "EDIGEO\n",
      "EEDA\n",
      "ESRI Shapefile\n",
      "ESRIJSON\n",
      "Elasticsearch\n",
      "FITS\n",
      "FlatGeobuf\n",
      "GML\n",
      "GMLAS\n",
      "GPKG\n",
      "GPSBabel\n",
      "GPX\n",
      "GeoJSON\n",
      "GeoJSONSeq\n",
      "GeoRSS\n",
      "Geoconcept\n",
      "HTTP\n",
      "Idrisi\n",
      "Interlis 1\n",
      "Interlis 2\n",
      "JML\n",
      "JP2OpenJPEG\n",
      "KML\n",
      "LIBKML\n",
      "LVBAG\n",
      "MBTiles\n",
      "MSSQLSpatial\n",
      "MVT\n",
      "MapInfo File\n",
      "MapML\n",
      "Memory\n",
      "MySQL\n",
      "NAS\n",
      "NGW\n",
      "OAPIF\n",
      "ODBC\n",
      "ODS\n",
      "OGCAPI\n",
      "OGR_GMT\n",
      "OGR_OGDI\n",
      "OGR_PDS\n",
      "OGR_SDTS\n",
      "OGR_VRT\n",
      "OSM\n",
      "OpenFileGDB\n",
      "PCIDSK\n",
      "PDF\n",
      "PDS4\n",
      "PGDUMP\n",
      "PGeo\n",
      "PLSCENES\n",
      "PostgreSQL\n",
      "S57\n",
      "SOSI\n",
      "SQLite\n",
      "SVG\n",
      "SXF\n",
      "Selafin\n",
      "TIGER\n",
      "TopoJSON\n",
      "UK .NTF\n",
      "VDV\n",
      "VFK\n",
      "VICAR\n",
      "WAsP\n",
      "WFS\n",
      "XLS\n",
      "XLSX\n",
      "netCDF\n"
     ]
    }
   ],
   "source": [
    "# import ogr\n",
    "cnt = ogr.GetDriverCount()\n",
    "formatsList = []  # Empty List\n",
    "\n",
    "for i in range(cnt):\n",
    "    driver = ogr.GetDriver(i)\n",
    "    driverName = driver.GetName()\n",
    "    if not driverName in formatsList:\n",
    "        formatsList.append(driverName)\n",
    "\n",
    "formatsList.sort() # Sorting the messy list of ogr drivers\n",
    "\n",
    "for i in formatsList:\n",
    "    print (i)"
   ]
  },
  {
   "cell_type": "code",
   "execution_count": 9,
   "metadata": {},
   "outputs": [
    {
     "name": "stdout",
     "output_type": "stream",
     "text": [
      "Ejecución de wkbPoint\n",
      "1\n",
      "Ejecución de wkbMultiPoint\n",
      "4\n",
      "Ejecución de wkbLineString\n",
      "2\n",
      "Ejecución de wkbMultiLineString\n",
      "5\n",
      "Ejecución de wkbPolygon\n",
      "3\n",
      "Ejecución de wkbMultiPolygon\n",
      "6\n",
      "Ejecución de wkbUnknown\n",
      "0\n",
      "Ejecución de wkbNone\n",
      "100\n"
     ]
    }
   ],
   "source": [
    "# Visualización de wkb\n",
    "wkb = ['wkbPoint', 'wkbMultiPoint', 'wkbLineString', 'wkbMultiLineString', 'wkbPolygon', 'wkbMultiPolygon', 'wkbUnknown', 'wkbNone']\n",
    "for statement in wkb:\n",
    "    print('Ejecución de ' + statement)\n",
    "    print(eval('ogr.' + statement))"
   ]
  },
  {
   "cell_type": "code",
   "execution_count": 10,
   "metadata": {},
   "outputs": [
    {
     "name": "stdout",
     "output_type": "stream",
     "text": [
      "Tipos de campos disponibles\n",
      "Name\t\tString\n",
      "description\t\tString\n",
      "timestamp\t\tDateTime\n",
      "begin\t\tDateTime\n",
      "end\t\tDateTime\n",
      "altitudeMode\t\tString\n",
      "tessellate\t\tInteger\n",
      "extrude\t\tInteger\n",
      "visibility\t\tInteger\n",
      "drawOrder\t\tInteger\n",
      "icon\t\tString\n",
      "\n",
      "Tipo de geometría de capa:  0\n",
      "\n",
      "Visualización de referencia espacial\n",
      "GEOGCS[\"WGS 84\",\n",
      "    DATUM[\"WGS_1984\",\n",
      "        SPHEROID[\"WGS 84\",6378137,298.257223563,\n",
      "            AUTHORITY[\"EPSG\",\"7030\"]],\n",
      "        AUTHORITY[\"EPSG\",\"6326\"]],\n",
      "    PRIMEM[\"Greenwich\",0,\n",
      "        AUTHORITY[\"EPSG\",\"8901\"]],\n",
      "    UNIT[\"degree\",0.0174532925199433,\n",
      "        AUTHORITY[\"EPSG\",\"9122\"]],\n",
      "    AXIS[\"Latitude\",NORTH],\n",
      "    AXIS[\"Longitude\",EAST],\n",
      "    AUTHORITY[\"EPSG\",\"4326\"]]\n",
      "\n",
      "Visualización de geometrías\n",
      "POLYGON\n",
      "POLYGON ((-65.2761235499803 -27.4273165243405 0,-65.277284984712 -27.4323348842842 0,-65.2759740139128 -27.432693552166 0,-65.2758576893732 -27.4320499623115 0,-65.2756030898314 -27.4313953393156 0,-65.274335510775 -27.4257575282962 0,-65.2755159666849 -27.4245919044985 0,-65.2757322137925 -27.4257598760334 0,-65.2752690625946 -27.4260534985309 0,-65.2755645152427 -27.4275520126991 0,-65.2761235499803 -27.4273165243405 0))\n"
     ]
    }
   ],
   "source": [
    "ds = ogr.Open(fn, 0)\n",
    "if ds is None:\n",
    "    sys.exit(f'No se puede abrir el archivo {fn}')\n",
    "lyr = ds.GetLayer(0)\n",
    "# display(lyr)\n",
    "# Visualización de campos disponibles\n",
    "print('Tipos de campos disponibles')\n",
    "for field in lyr.schema:\n",
    "   print(field.name, field.GetTypeName(), sep ='\\t'*2)\n",
    "# Visualización de tipo de geometría\n",
    "print()\n",
    "print('Tipo de geometría de capa: ', lyr.GetGeomType())\n",
    "print()\n",
    "print('Visualización de referencia espacial', lyr.GetSpatialRef(), sep = '\\n')\n",
    "\n",
    "print()\n",
    "print('Visualización de geometrías')\n",
    "for feature in lyr:\n",
    "    geometry = feature.GetGeometryRef()\n",
    "    print(geometry.GetGeometryName())\n",
    "    print(geometry.ExportToWkt())\n",
    "\n",
    "del ds"
   ]
  },
  {
   "cell_type": "markdown",
   "metadata": {},
   "source": [
    "# Formato de búsqueda\n",
    "\n",
    "```\n",
    "POLYGON ((-61.34108516 -38.96185316, -61.20776258 -38.96086585, -61.20776258 -38.96086585, -61.20776258 -39.02254635, -61.34172003 -39.02155988, -61.34108516 -38.96185316))\n",
    "```"
   ]
  },
  {
   "cell_type": "code",
   "execution_count": 11,
   "metadata": {},
   "outputs": [
    {
     "name": "stdout",
     "output_type": "stream",
     "text": [
      "File Content:\n",
      " [FOLDERS]\n",
      "roi = /src/Vectores/Campo_Atahona.kml\n",
      "output = /src/Output/\n",
      "\n",
      "[ATTRIB]\n",
      "init_date = 01-01-2019\n",
      "final_date = 31-01-2021\n",
      "max_cloud = 50\n",
      "sent_mission = MSIL2A\n",
      "proj_name = Your name\n",
      "\n",
      "[ESA_SERVER]\n",
      "url = https://catalogue.dataspace.copernicus.eu/odata/v1/Products\n",
      "orderby = ContentDate/Start\n",
      "top = 100\n",
      "\n",
      "\n"
     ]
    }
   ],
   "source": [
    "# Lectura de archivo de configuración\n",
    "import sys\n",
    "\n",
    "sys.path.append(r'../utils')\n",
    "import mod_searcher as ms\n",
    "\n",
    "config_path = r'/src/utils/CONF_SEARCHER.INI'\n",
    "verbose = True\n",
    "\n",
    "ms.read_conf_searcher(config_path, verbose)"
   ]
  },
  {
   "cell_type": "code",
   "execution_count": 19,
   "metadata": {},
   "outputs": [
    {
     "name": "stdout",
     "output_type": "stream",
     "text": [
      "treinta\n",
      "Is numeric?  False\n",
      "Is alphabetic?  True\n",
      "Is alphanumeric?  True\n",
      "33\n",
      "Is numeric?  True\n",
      "Is alphabetic?  False\n",
      "Is alphanumeric?  True\n",
      "Los33\n",
      "Is numeric?  False\n",
      "Is alphabetic?  False\n",
      "Is alphanumeric?  True\n"
     ]
    }
   ],
   "source": [
    "str_numeric = '33'\n",
    "str_alpha = 'treinta'\n",
    "str_alphanumeric = 'Los33'\n",
    "\n",
    "str_list = [str_alpha, str_numeric, str_alphanumeric]\n",
    "\n",
    "for str_ in str_list:\n",
    "    print(str_)\n",
    "    print('Is numeric? ', str(str_.isnumeric()))\n",
    "    print('Is alphabetic? ', str(str_.isalpha()))\n",
    "    print('Is alphanumeric? ', str(str_.isalnum()))\n",
    "    "
   ]
  },
  {
   "cell_type": "code",
   "execution_count": 15,
   "metadata": {},
   "outputs": [
    {
     "data": {
      "text/plain": [
       "\u001b[0;31mSignature:\u001b[0m \u001b[0mstr\u001b[0m\u001b[0;34m.\u001b[0m\u001b[0misalpha\u001b[0m\u001b[0;34m(\u001b[0m\u001b[0mself\u001b[0m\u001b[0;34m,\u001b[0m \u001b[0;34m/\u001b[0m\u001b[0;34m)\u001b[0m\u001b[0;34m\u001b[0m\u001b[0;34m\u001b[0m\u001b[0m\n",
       "\u001b[0;31mDocstring:\u001b[0m\n",
       "Return True if the string is an alphabetic string, False otherwise.\n",
       "\n",
       "A string is alphabetic if all characters in the string are alphabetic and there\n",
       "is at least one character in the string.\n",
       "\u001b[0;31mType:\u001b[0m      method_descriptor"
      ]
     },
     "metadata": {},
     "output_type": "display_data"
    }
   ],
   "source": [
    "str.isalnum?"
   ]
  }
 ],
 "metadata": {
  "kernelspec": {
   "display_name": "Python 3 (ipykernel)",
   "language": "python",
   "name": "python3"
  },
  "language_info": {
   "codemirror_mode": {
    "name": "ipython",
    "version": 3
   },
   "file_extension": ".py",
   "mimetype": "text/x-python",
   "name": "python",
   "nbconvert_exporter": "python",
   "pygments_lexer": "ipython3",
   "version": "3.10.12"
  }
 },
 "nbformat": 4,
 "nbformat_minor": 4
}
