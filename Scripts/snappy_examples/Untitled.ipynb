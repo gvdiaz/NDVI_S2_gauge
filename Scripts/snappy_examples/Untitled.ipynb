{
 "cells": [
  {
   "cell_type": "code",
   "execution_count": 1,
   "id": "df553338-21fd-4427-84e9-6d56d8576084",
   "metadata": {},
   "outputs": [
    {
     "data": {
      "text/plain": [
       "sys.version_info(major=3, minor=6, micro=15, releaselevel='final', serial=0)"
      ]
     },
     "execution_count": 1,
     "metadata": {},
     "output_type": "execute_result"
    }
   ],
   "source": [
    "import sys\n",
    "sys.version_info"
   ]
  },
  {
   "cell_type": "code",
   "execution_count": 2,
   "id": "9f363b62",
   "metadata": {},
   "outputs": [
    {
     "name": "stdout",
     "output_type": "stream",
     "text": [
      "total 1744\r\n",
      "drwxr-xr-x  1 root   4096 Dec  8 19:10 \u001b[0m\u001b[01;34m.\u001b[0m/\r\n",
      "drwxr-xr-x  1 root   4096 Dec  8 18:29 \u001b[01;34m..\u001b[0m/\r\n",
      "drwxr-xr-x 12 root   4096 Dec  8 19:10 \u001b[01;34mIPython\u001b[0m/\r\n",
      "drwxr-xr-x  2 root   4096 Dec  8 19:10 \u001b[01;34mJinja2-3.0.3.dist-info\u001b[0m/\r\n",
      "drwxr-xr-x  2 root   4096 Dec  8 19:10 \u001b[01;34mMarkupSafe-2.0.1.dist-info\u001b[0m/\r\n",
      "drwxr-xr-x  2 root   4096 Dec  8 19:10 \u001b[01;34mPygments-2.14.0.dist-info\u001b[0m/\r\n",
      "drwxr-xr-x  2 root   4096 Dec  8 19:10 \u001b[01;34mSend2Trash-1.8.2.dist-info\u001b[0m/\r\n",
      "drwxr-xr-x  2 root   4096 Dec  8 19:10 \u001b[01;34m__pycache__\u001b[0m/\r\n",
      "drwxr-xr-x  3 root   4096 Dec  8 19:10 \u001b[01;34m_argon2_cffi_bindings\u001b[0m/\r\n",
      "-rwxr-xr-x  1 root 891450 Dec  8 19:10 \u001b[01;32m_cffi_backend.cpython-36m-x86_64-linux-gnu.so\u001b[0m*\r\n",
      "-rw-r--r--  1 root     23 Dec  8 19:10 _pyrsistent_version.py\r\n",
      "drwxr-xr-x  3 root   4096 Dec  8 19:10 \u001b[01;34margon2\u001b[0m/\r\n",
      "drwxr-xr-x  2 root   4096 Dec  8 19:10 \u001b[01;34margon2_cffi-21.3.0.dist-info\u001b[0m/\r\n",
      "drwxr-xr-x  2 root   4096 Dec  8 19:10 \u001b[01;34margon2_cffi_bindings-21.2.0.dist-info\u001b[0m/\r\n",
      "drwxr-xr-x  4 root   4096 Dec  8 19:10 \u001b[01;34masync_generator\u001b[0m/\r\n",
      "drwxr-xr-x  2 root   4096 Dec  8 19:10 \u001b[01;34masync_generator-1.10.dist-info\u001b[0m/\r\n",
      "drwxr-xr-x  3 root   4096 Dec  8 19:10 \u001b[01;34mattr\u001b[0m/\r\n",
      "drwxr-xr-x  3 root   4096 Dec  8 19:10 \u001b[01;34mattrs\u001b[0m/\r\n",
      "drwxr-xr-x  2 root   4096 Dec  8 19:10 \u001b[01;34mattrs-22.2.0.dist-info\u001b[0m/\r\n",
      "drwxr-xr-x  3 root   4096 Dec  8 19:10 \u001b[01;34mbackcall\u001b[0m/\r\n",
      "drwxr-xr-x  2 root   4096 Dec  8 19:10 \u001b[01;34mbackcall-0.2.0.dist-info\u001b[0m/\r\n",
      "drwxr-xr-x  4 root   4096 Dec  8 19:10 \u001b[01;34mbleach\u001b[0m/\r\n",
      "drwxr-xr-x  2 root   4096 Dec  8 19:10 \u001b[01;34mbleach-4.1.0.dist-info\u001b[0m/\r\n",
      "drwxr-xr-x  3 root   4096 Dec  8 19:10 \u001b[01;34mcffi\u001b[0m/\r\n",
      "drwxr-xr-x  2 root   4096 Dec  8 19:10 \u001b[01;34mcffi-1.15.1.dist-info\u001b[0m/\r\n",
      "drwxr-xr-x  2 root   4096 Dec  8 19:10 \u001b[01;34mdataclasses-0.8.dist-info\u001b[0m/\r\n",
      "-rw-r--r--  1 root  45499 Dec  8 19:10 dataclasses.py\r\n",
      "drwxr-xr-x  6 root   4096 Dec  8 19:10 \u001b[01;34mdateutil\u001b[0m/\r\n",
      "drwxr-xr-x  2 root   4096 Dec  8 19:10 \u001b[01;34mdecorator-5.1.1.dist-info\u001b[0m/\r\n",
      "-rw-r--r--  1 root  16752 Dec  8 19:10 decorator.py\r\n",
      "drwxr-xr-x  3 root   4096 Dec  8 19:10 \u001b[01;34mdefusedxml\u001b[0m/\r\n",
      "drwxr-xr-x  2 root   4096 Dec  8 19:10 \u001b[01;34mdefusedxml-0.7.1.dist-info\u001b[0m/\r\n",
      "drwxr-xr-x  2 root   4096 Dec  8 19:10 \u001b[01;34mentrypoints-0.4.dist-info\u001b[0m/\r\n",
      "-rw-r--r--  1 root   8264 Dec  8 19:10 entrypoints.py\r\n",
      "drwxr-xr-x  3 root   4096 Dec  8 19:10 \u001b[01;34mimportlib_metadata\u001b[0m/\r\n",
      "drwxr-xr-x  2 root   4096 Dec  8 19:10 \u001b[01;34mimportlib_metadata-4.8.3.dist-info\u001b[0m/\r\n",
      "drwxr-xr-x  9 root   4096 Dec  8 19:10 \u001b[01;34mipykernel\u001b[0m/\r\n",
      "drwxr-xr-x  2 root   4096 Dec  8 19:10 \u001b[01;34mipykernel-5.5.6.dist-info\u001b[0m/\r\n",
      "-rw-r--r--  1 root    451 Dec  8 19:10 ipykernel_launcher.py\r\n",
      "drwxr-xr-x  2 root   4096 Dec  8 19:10 \u001b[01;34mipython-7.16.3.dist-info\u001b[0m/\r\n",
      "drwxr-xr-x  5 root   4096 Dec  8 19:10 \u001b[01;34mipython_genutils\u001b[0m/\r\n",
      "drwxr-xr-x  2 root   4096 Dec  8 19:10 \u001b[01;34mipython_genutils-0.2.0.dist-info\u001b[0m/\r\n",
      "drwxr-xr-x  7 root   4096 Dec  8 19:10 \u001b[01;34mjedi\u001b[0m/\r\n",
      "drwxr-xr-x  2 root   4096 Dec  8 19:10 \u001b[01;34mjedi-0.17.2.dist-info\u001b[0m/\r\n",
      "drwxr-xr-x  3 root   4096 Dec  8 19:10 \u001b[01;34mjinja2\u001b[0m/\r\n",
      "drwxr-xr-x  6 root   4096 Dec  8 19:10 \u001b[01;34mjsonschema\u001b[0m/\r\n",
      "drwxr-xr-x  2 root   4096 Dec  8 19:10 \u001b[01;34mjsonschema-3.2.0.dist-info\u001b[0m/\r\n",
      "-rw-r--r--  1 root    118 Dec  8 19:10 jupyter.py\r\n",
      "drwxr-xr-x  9 root   4096 Dec  8 19:10 \u001b[01;34mjupyter_client\u001b[0m/\r\n",
      "drwxr-xr-x  2 root   4096 Dec  8 19:10 \u001b[01;34mjupyter_client-7.1.2.dist-info\u001b[0m/\r\n",
      "drwxr-xr-x  5 root   4096 Dec  8 19:10 \u001b[01;34mjupyter_core\u001b[0m/\r\n",
      "drwxr-xr-x  2 root   4096 Dec  8 19:10 \u001b[01;34mjupyter_core-4.9.2.dist-info\u001b[0m/\r\n",
      "drwxr-xr-x  3 root   4096 Dec  8 19:10 \u001b[01;34mjupyterlab_pygments\u001b[0m/\r\n",
      "drwxr-xr-x  2 root   4096 Dec  8 19:10 \u001b[01;34mjupyterlab_pygments-0.1.2.dist-info\u001b[0m/\r\n",
      "drwxr-xr-x  3 root   4096 Dec  8 19:10 \u001b[01;34mmarkupsafe\u001b[0m/\r\n",
      "drwxr-xr-x  2 root   4096 Dec  8 19:10 \u001b[01;34mmistune-0.8.4.dist-info\u001b[0m/\r\n",
      "-rw-r--r--  1 root  36516 Dec  8 19:10 mistune.py\r\n",
      "drwxr-xr-x  4 root   4096 Dec  8 19:10 \u001b[01;34mnbclient\u001b[0m/\r\n",
      "drwxr-xr-x  2 root   4096 Dec  8 19:10 \u001b[01;34mnbclient-0.5.9.dist-info\u001b[0m/\r\n",
      "drwxr-xr-x 12 root   4096 Dec  8 19:10 \u001b[01;34mnbconvert\u001b[0m/\r\n",
      "drwxr-xr-x  2 root   4096 Dec  8 19:10 \u001b[01;34mnbconvert-6.0.7.dist-info\u001b[0m/\r\n",
      "drwxr-xr-x  9 root   4096 Dec  8 19:10 \u001b[01;34mnbformat\u001b[0m/\r\n",
      "drwxr-xr-x  2 root   4096 Dec  8 19:10 \u001b[01;34mnbformat-5.1.3.dist-info\u001b[0m/\r\n",
      "drwxr-xr-x  2 root   4096 Dec  8 19:10 \u001b[01;34mnest_asyncio-1.5.8.dist-info\u001b[0m/\r\n",
      "-rw-r--r--  1 root   8006 Dec  8 19:10 nest_asyncio.py\r\n",
      "drwxr-xr-x 21 root   4096 Dec  8 19:10 \u001b[01;34mnotebook\u001b[0m/\r\n",
      "drwxr-xr-x  2 root   4096 Dec  8 19:10 \u001b[01;34mnotebook-6.4.10.dist-info\u001b[0m/\r\n",
      "drwxr-xr-x  3 root   4096 Dec  8 19:10 \u001b[01;34mpackaging\u001b[0m/\r\n",
      "drwxr-xr-x  2 root   4096 Dec  8 19:10 \u001b[01;34mpackaging-21.3.dist-info\u001b[0m/\r\n",
      "drwxr-xr-x  2 root   4096 Dec  8 19:10 \u001b[01;34mpandocfilters-1.5.0.dist-info\u001b[0m/\r\n",
      "-rw-r--r--  1 root   9052 Dec  8 19:10 pandocfilters.py\r\n",
      "drwxr-xr-x  5 root   4096 Dec  8 19:10 \u001b[01;34mparso\u001b[0m/\r\n",
      "drwxr-xr-x  2 root   4096 Dec  8 19:10 \u001b[01;34mparso-0.7.1.dist-info\u001b[0m/\r\n",
      "drwxr-xr-x  3 root   4096 Dec  8 19:10 \u001b[01;34mpexpect\u001b[0m/\r\n",
      "drwxr-xr-x  2 root   4096 Dec  8 19:10 \u001b[01;34mpexpect-4.9.0.dist-info\u001b[0m/\r\n",
      "drwxr-xr-x  2 root   4096 Dec  8 19:10 \u001b[01;34mpickleshare-0.7.5.dist-info\u001b[0m/\r\n",
      "-rw-r--r--  1 root   9942 Dec  8 19:10 pickleshare.py\r\n",
      "drwxr-xr-x  6 root   4096 Dec  8 19:10 \u001b[01;34mprometheus_client\u001b[0m/\r\n",
      "drwxr-xr-x  2 root   4096 Dec  8 19:10 \u001b[01;34mprometheus_client-0.17.1.dist-info\u001b[0m/\r\n",
      "drwxr-xr-x 18 root   4096 Dec  8 19:10 \u001b[01;34mprompt_toolkit\u001b[0m/\r\n",
      "drwxr-xr-x  2 root   4096 Dec  8 19:10 \u001b[01;34mprompt_toolkit-3.0.36.dist-info\u001b[0m/\r\n",
      "drwxr-xr-x  3 root   4096 Dec  8 19:10 \u001b[01;34mptyprocess\u001b[0m/\r\n",
      "drwxr-xr-x  2 root   4096 Dec  8 19:10 \u001b[01;34mptyprocess-0.7.0.dist-info\u001b[0m/\r\n",
      "-rwxr-xr-x  1 root 187762 Dec  8 19:10 \u001b[01;32mpvectorc.cpython-36m-x86_64-linux-gnu.so\u001b[0m*\r\n",
      "drwxr-xr-x  3 root   4096 Dec  8 18:33 \u001b[01;34mpybridge\u001b[0m/\r\n",
      "drwxr-xr-x  2 root   4096 Dec  8 18:33 \u001b[01;34mpybridge-1.0.1.dist-info\u001b[0m/\r\n",
      "drwxr-xr-x  4 root   4096 Dec  8 19:10 \u001b[01;34mpycparser\u001b[0m/\r\n",
      "drwxr-xr-x  2 root   4096 Dec  8 19:10 \u001b[01;34mpycparser-2.21.dist-info\u001b[0m/\r\n",
      "drwxr-xr-x  7 root   4096 Dec  8 19:10 \u001b[01;34mpygments\u001b[0m/\r\n",
      "drwxr-xr-x  4 root   4096 Dec  8 19:10 \u001b[01;34mpyparsing\u001b[0m/\r\n",
      "drwxr-xr-x  2 root   4096 Dec  8 19:10 \u001b[01;34mpyparsing-3.1.1.dist-info\u001b[0m/\r\n",
      "drwxr-xr-x  3 root   4096 Dec  8 19:10 \u001b[01;34mpyrsistent\u001b[0m/\r\n",
      "drwxr-xr-x  2 root   4096 Dec  8 19:10 \u001b[01;34mpyrsistent-0.18.0.dist-info\u001b[0m/\r\n",
      "drwxr-xr-x  2 root   4096 Dec  8 19:10 \u001b[01;34mpython_dateutil-2.8.2.dist-info\u001b[0m/\r\n",
      "drwxr-xr-x  2 root   4096 Dec  8 19:10 \u001b[01;34mpyzmq-25.1.2.dist-info\u001b[0m/\r\n",
      "drwxr-xr-x  2 root   4096 Dec  8 19:10 \u001b[01;34mpyzmq.libs\u001b[0m/\r\n",
      "drwxr-xr-x  5 root   4096 Dec  8 19:10 \u001b[01;34msend2trash\u001b[0m/\r\n",
      "drwxr-xr-x  8 root   4096 Dec  8 18:51 \u001b[01;34msnappy\u001b[0m/\r\n",
      "drwxr-xr-x  5 root   4096 Dec  8 19:10 \u001b[01;34mterminado\u001b[0m/\r\n",
      "drwxr-xr-x  2 root   4096 Dec  8 19:10 \u001b[01;34mterminado-0.12.1.dist-info\u001b[0m/\r\n",
      "drwxr-xr-x  3 root   4096 Dec  8 19:10 \u001b[01;34mtestpath\u001b[0m/\r\n",
      "drwxr-xr-x  2 root   4096 Dec  8 19:10 \u001b[01;34mtestpath-0.6.0.dist-info\u001b[0m/\r\n",
      "drwxr-xr-x  5 root   4096 Dec  8 19:10 \u001b[01;34mtornado\u001b[0m/\r\n",
      "drwxr-xr-x  2 root   4096 Dec  8 19:10 \u001b[01;34mtornado-6.1.dist-info\u001b[0m/\r\n",
      "drwxr-xr-x  6 root   4096 Dec  8 19:10 \u001b[01;34mtraitlets\u001b[0m/\r\n",
      "drwxr-xr-x  2 root   4096 Dec  8 19:10 \u001b[01;34mtraitlets-4.3.3.dist-info\u001b[0m/\r\n",
      "drwxr-xr-x  2 root   4096 Dec  8 19:10 \u001b[01;34mtyping_extensions-4.1.1.dist-info\u001b[0m/\r\n",
      "-rw-r--r--  1 root 107685 Dec  8 19:10 typing_extensions.py\r\n",
      "drwxr-xr-x  3 root   4096 Dec  8 19:10 \u001b[01;34mwcwidth\u001b[0m/\r\n",
      "drwxr-xr-x  2 root   4096 Dec  8 19:10 \u001b[01;34mwcwidth-0.2.12.dist-info\u001b[0m/\r\n",
      "drwxr-xr-x  3 root   4096 Dec  8 19:10 \u001b[01;34mwebencodings\u001b[0m/\r\n",
      "drwxr-xr-x  2 root   4096 Dec  8 19:10 \u001b[01;34mwebencodings-0.5.1.dist-info\u001b[0m/\r\n",
      "drwxr-xr-x  2 root   4096 Dec  8 19:10 \u001b[01;34mzipp-3.6.0.dist-info\u001b[0m/\r\n",
      "-rw-r--r--  1 root   8425 Dec  8 19:10 zipp.py\r\n",
      "drwxr-xr-x 13 root   4096 Dec  8 19:10 \u001b[01;34mzmq\u001b[0m/\r\n"
     ]
    }
   ],
   "source": [
    "ls -aol /usr/local/lib/python3.6/dist-packages/"
   ]
  },
  {
   "cell_type": "code",
   "execution_count": 3,
   "id": "1052c4f1",
   "metadata": {},
   "outputs": [
    {
     "name": "stdout",
     "output_type": "stream",
     "text": [
      "/usr/lib/python36.zip\n",
      "/usr/lib/python3.6\n",
      "/usr/lib/python3.6/lib-dynload\n",
      "\n",
      "/usr/local/lib/python3.6/dist-packages\n",
      "/usr/lib/python3/dist-packages\n",
      "/usr/local/lib/python3.6/dist-packages/IPython/extensions\n",
      "/root/.ipython\n"
     ]
    }
   ],
   "source": [
    "# help(\"modules\")\n",
    "print ('\\n'.join(sys.path))\n",
    "import snappy"
   ]
  },
  {
   "cell_type": "code",
   "execution_count": 4,
   "id": "3ce6b8ba-40dd-4ae8-838b-c45ca0905030",
   "metadata": {},
   "outputs": [],
   "source": [
    "import sys\n",
    "\n",
    "from snappy import GPF\n",
    "from snappy import HashMap\n",
    "from snappy import ProductIO\n",
    "from snappy import jpy\n",
    "\n",
    "# if len(sys.argv) != 2:\n",
    "#    print(\"usage: %s <file>\" % sys.argv[0])\n",
    "#    sys.exit(1)\n",
    "\n",
    "#file = sys.argv[1]\n",
    "\n",
    "#print(\"Reading...\")\n",
    "#product = ProductIO.readProduct(file)\n",
    "#width = product.getSceneRasterWidth()\n",
    "#height = product.getSceneRasterHeight()\n",
    "#ame = product.getName()\n",
    "#escription = product.getDescription()\n",
    "#band_names = product.getBandNames()"
   ]
  }
 ],
 "metadata": {
  "kernelspec": {
   "display_name": "Python 3",
   "language": "python",
   "name": "python3"
  },
  "language_info": {
   "codemirror_mode": {
    "name": "ipython",
    "version": 3
   },
   "file_extension": ".py",
   "mimetype": "text/x-python",
   "name": "python",
   "nbconvert_exporter": "python",
   "pygments_lexer": "ipython3",
   "version": "3.6.15"
  }
 },
 "nbformat": 4,
 "nbformat_minor": 5
}
