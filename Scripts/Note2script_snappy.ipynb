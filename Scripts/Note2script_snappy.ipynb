{
 "cells": [
  {
   "cell_type": "markdown",
   "id": "ec2939a7",
   "metadata": {},
   "source": [
    "# Objetivo: Desarrollo de funciones para procesar productos Sentinel-2 co snappy\n",
    "# Fecha: 26/07/2024\n",
    "# Autor: Gustavo V. Diaz"
   ]
  },
  {
   "cell_type": "code",
   "execution_count": 2,
   "id": "9802a571",
   "metadata": {},
   "outputs": [
    {
     "ename": "ModuleNotFoundError",
     "evalue": "No module named 'matplotlib'",
     "output_type": "error",
     "traceback": [
      "\u001b[0;31m---------------------------------------------------------------------------\u001b[0m",
      "\u001b[0;31mModuleNotFoundError\u001b[0m                       Traceback (most recent call last)",
      "\u001b[0;32m<ipython-input-2-80b16f7973fd>\u001b[0m in \u001b[0;36m<module>\u001b[0;34m\u001b[0m\n\u001b[1;32m     20\u001b[0m \u001b[0;32mimport\u001b[0m \u001b[0mnumpy\u001b[0m \u001b[0;32mas\u001b[0m \u001b[0mnp\u001b[0m\u001b[0;34m\u001b[0m\u001b[0;34m\u001b[0m\u001b[0m\n\u001b[1;32m     21\u001b[0m \u001b[0;31m# import matplotlib\u001b[0m\u001b[0;34m\u001b[0m\u001b[0;34m\u001b[0m\u001b[0;34m\u001b[0m\u001b[0m\n\u001b[0;32m---> 22\u001b[0;31m \u001b[0;32mimport\u001b[0m \u001b[0mmatplotlib\u001b[0m\u001b[0;34m\u001b[0m\u001b[0;34m\u001b[0m\u001b[0m\n\u001b[0m\u001b[1;32m     23\u001b[0m \u001b[0;32mimport\u001b[0m \u001b[0mmatplotlib\u001b[0m\u001b[0;34m.\u001b[0m\u001b[0mpyplot\u001b[0m \u001b[0;32mas\u001b[0m \u001b[0mplt\u001b[0m\u001b[0;34m\u001b[0m\u001b[0;34m\u001b[0m\u001b[0m\n\u001b[1;32m     24\u001b[0m \u001b[0;32mimport\u001b[0m \u001b[0mmatplotlib\u001b[0m\u001b[0;34m.\u001b[0m\u001b[0mcolors\u001b[0m \u001b[0;32mas\u001b[0m \u001b[0mcolors\u001b[0m\u001b[0;34m\u001b[0m\u001b[0;34m\u001b[0m\u001b[0m\n",
      "\u001b[0;31mModuleNotFoundError\u001b[0m: No module named 'matplotlib'"
     ]
    }
   ],
   "source": [
    "# Para manejo de raster\n",
    "\n",
    "\n",
    "# Para abrir y bajar archivos en lista de bajada\n",
    "import pandas as pd\n",
    "import os\n",
    "import sys\n",
    "sys.path.append(r'../utils')\n",
    "import mod_dloader as mdl\n",
    "\n",
    "# Para manipular archivo bajado\n",
    "import snappy\n",
    "from snappy import Product\n",
    "from snappy import ProductIO\n",
    "from snappy import ProductUtils\n",
    "from snappy import WKTReader\n",
    "from snappy import HashMap\n",
    "from snappy import GPF\n",
    "\n",
    "import numpy as np\n",
    "import matplotlib\n",
    "import matplotlib.pyplot as plt\n",
    "import matplotlib.colors as colors"
   ]
  },
  {
   "cell_type": "code",
   "execution_count": null,
   "id": "12b51cf4",
   "metadata": {},
   "outputs": [],
   "source": [
    "# Lectura de df generado para seleccionar productos sentinel-2\n",
    "path2df = r'/src/output/research_20240725T223256_Tratayen.xls'\n",
    "df = pd.read_excel(path2df, sheet_name='resume_search')\n",
    "display(df)\n",
    "# Pude abrir el xls pero debo guardar la planilla con formato xls y no xlsx como lo había hecho."
   ]
  },
  {
   "cell_type": "markdown",
   "id": "4c79bf1c",
   "metadata": {},
   "source": [
    "**Objetivo para dirigir la misión** \\\n",
    "**Misión**: procesar cada producto S2 con la geometría en la misma proyección que el producto S2\\\n",
    "**Objetivo**: Bajar un producto para leer la proyección del mismo y así hacer la transformación al objeto vectorial"
   ]
  },
  {
   "cell_type": "code",
   "execution_count": null,
   "id": "3ed31cb6",
   "metadata": {},
   "outputs": [],
   "source": [
    "# Id de ejemplo para obtener el tipo de proyección del producto\n",
    "# Definiciones\n",
    "user = 'gus838@gmail.com'\n",
    "passw = 'Ul!RsPWTPuw3'\n",
    "verbose = True\n",
    "aux_key = 'access_token'\n",
    "kc_token = 'KEYCLOAK_TOKEN'\n",
    "prod_series = df.loc[0]\n",
    "id_prod_series = prod_series.Id\n",
    "name_prod_series = prod_series.Name\n",
    "output_path = r'/src/output/'\n",
    "str_token = mdl.get_keycloak(user, passw, verbose)\n",
    "os.environ[kc_token] = str_token\n",
    "# print(id_prod_series)"
   ]
  },
  {
   "cell_type": "code",
   "execution_count": null,
   "id": "c03671ca",
   "metadata": {},
   "outputs": [],
   "source": [
    "# Bajo el producto para examinarlo con snappy\n",
    "\n",
    "\n",
    "\n",
    "for row in df.iterrows():\n",
    "    prod_id = row[1]['Id']\n",
    "    prod_name = row[1]['Name']\n",
    "    str_token = mdl.get_keycloak(user, passw, verbose)\n",
    "    os.environ[kc_token] = str_token\n",
    "    print('Variables para generadas en cada iteración:')\n",
    "    print(f'Id Producto: {prod_id}',f'Nombre producto: {prod_name}',f'user: {user}',f'Key_cloak: {str_token}', sep='\\n')\n",
    "    print(f'Id Producto: {prod_id}',f'\\nNombre producto: {prod_name}',f'\\nuser: {user}')\n",
    "    print()\n",
    "    file2verif = os.path.join(output_path,prod_name + '.zip')\n",
    "    if os.path.isfile(file2verif):\n",
    "        print(f'Archivo {file2verif} existente')\n",
    "        pass\n",
    "    else:\n",
    "        print(f'Archivo {file2verif} NO existente, bajando')\n",
    "        mdl.prod_downloader_2(prod_id, os.environ[kc_token], output_path, prod_name, verbose)\n",
    "    # BREAK de debug, solo permite que se baje un solo producto (el primero de la lista)\n",
    "    break\n",
    "#     if verbose:\n",
    "#         print(\"Token de variable 'str_token'\", str_token, sep='\\n')\n",
    "#         print('Variable de producto a ingresar a función \"Bajadora\"', prod_name, prod_id, sep='\\n')"
   ]
  },
  {
   "cell_type": "code",
   "execution_count": null,
   "id": "4958fdfe",
   "metadata": {
    "scrolled": true
   },
   "outputs": [],
   "source": [
    "# Manejo de producto sentinel para leer proyección de producto\n",
    "product = ProductIO.readProduct(file2verif)\n",
    "\n",
    "# Procesamiento de datos\n",
    "width = product.getSceneRasterWidth()\n",
    "print(f\"Ancho: {width} px\\n\")\n",
    "height = product.getSceneRasterHeight()\n",
    "print(f\"Alto: {height} px\\n\")\n",
    "prod_name = product.getName()\n",
    "print(f\"Nombre: {prod_name}\\n\")\n",
    "band_names = product.getBandNames()\n",
    "# print(f\"Nombre de bandas: {band_names}\")\n",
    "# print(\"Band names: {}\".format(\", \".join(band_names)))\n",
    "str_band_n = \", \".join(band_names).split(\", \")\n",
    "print(f\"Cantidad de bandas: {len(str_band_n)}\\n\")\n",
    "# display(len(str_band_n), str_band_n)\n",
    "crs_raster = product.getSceneCRS()\n",
    "geocod_raster = product.getSceneGeoCoding()\n",
    "# print(\"Muestras de proyección de producto\", type(crs_raster), crs_raster, type(geocod_raster), geocod_raster, sep = '\\n')"
   ]
  },
  {
   "cell_type": "code",
   "execution_count": null,
   "id": "c3ff3c18",
   "metadata": {},
   "outputs": [],
   "source": [
    "# from osgeo import gdal -> No funciona, no encuentra el módulo _gdal\n",
    "# !python3 test_script.py -> No funciona, ValueError: filedescriptor out of range in select()\n",
    "# Intento por la vía del scripting en python llamando a un script ejecutable\n",
    "# Ya logré obtener geometría de kml y reproyectar coordenadas de geometría a proyección que leí de producto Sentinel\n",
    "# Ahora voy por levantar el archivo que tiene el WKT reproyectado y cortar el producto para verlo en pantalla.\n",
    "\n",
    "## Archivo que contiene wkt reproyectado\n",
    "wkt_path = r'./aux_files/wkt_reproj_file.txt'\n",
    "## Archivo que contiene wkt original\n",
    "wkt_orig_path = r'./aux_files/wkt_file.txt'\n",
    "\n",
    "with open(wkt_path, 'r') as f:\n",
    "    wkt_reproj = f.readline()\n",
    "\n",
    "with open(wkt_orig_path, 'r') as f:\n",
    "    wkt_orig = f.readline()\n",
    "\n",
    "print(\"Lectura de archivo contenedor de WKT reproyectado y orignal\", wkt_reproj, wkt_orig, sep='\\n')"
   ]
  },
  {
   "cell_type": "code",
   "execution_count": null,
   "id": "fc56dd3c",
   "metadata": {},
   "outputs": [],
   "source": [
    "## Lectura de WKT con snappy\n",
    "geometry = WKTReader().read(wkt_reproj)\n",
    "geometry_4326 = WKTReader().read(wkt_orig)\n",
    "print(geometry)\n",
    "print(geometry_4326)\n",
    "# Aparentemente leyó correctemente la geometría definida en WKT"
   ]
  },
  {
   "cell_type": "code",
   "execution_count": null,
   "id": "b2a9113c",
   "metadata": {},
   "outputs": [],
   "source": [
    "# Objetivo 2 del día Cortar producto por geometría\n",
    "SubsetOp = snappy.jpy.get_type('org.esa.snap.core.gpf.common.SubsetOp')\n",
    "geometry = WKTReader().read(wkt_reproj)\n",
    "HashMap = snappy.jpy.get_type('java.util.HashMap')\n",
    "GPF.getDefaultInstance().getOperatorSpiRegistry().loadOperatorSpis()\n",
    "parameters = HashMap()\n",
    "parameters.put('copyMetadata', True)\n",
    "parameters.put('geoRegion', geometry_4326)\n",
    "product_subset = GPF.createProduct('Subset', parameters, product)"
   ]
  },
  {
   "cell_type": "code",
   "execution_count": null,
   "id": "7a645928",
   "metadata": {},
   "outputs": [],
   "source": [
    "## Verificicación de creación de subset\n",
    "width = product_subset.getSceneRasterWidth()\n",
    "print(\"Width: {}px\".format(width))\n",
    "height = product_subset.getSceneRasterHeight()\n",
    "print(\"Height: {} px\".format(height))\n",
    "band_names = product_subset.getBandNames()\n",
    "band_list = \", \".join(band_names).split(', ')\n",
    "display(band_list)\n",
    "# print(\"Band names: {}\".format(\", \".join(band_names)))\n",
    "band = product_subset.getBand(band_names[0])\n",
    "print(band.getRasterSize())"
   ]
  },
  {
   "cell_type": "code",
   "execution_count": null,
   "id": "c0bad417",
   "metadata": {},
   "outputs": [],
   "source": [
    " def plotBand(product,band,vmin,vmax):\n",
    "    band=product.getBand(band)\n",
    "    w=band.getRasterWidth()\n",
    "    h=band.getRasterHeight()\n",
    "    print(w,h)\n",
    "    band_data=np.zeros(w*h,np.float32)\n",
    "    band.readPixels(0,0,w,h,band_data)\n",
    "    band_data.shape=h,w\n",
    "    width=12\n",
    "    height=12\n",
    "    plt.figure(figsize=(width,height))\n",
    "    imgplot=plt.imshow(band_data,cmap=plt.cm.binary,vmin=vmin,vmax=vmax)\n",
    "\n",
    "    return imgplot"
   ]
  },
  {
   "cell_type": "code",
   "execution_count": null,
   "id": "bddb1b45",
   "metadata": {},
   "outputs": [],
   "source": [
    "plotBand(product_subset, 'B2',0, 100)"
   ]
  }
 ],
 "metadata": {
  "kernelspec": {
   "display_name": "Python 3",
   "language": "python",
   "name": "python3"
  },
  "language_info": {
   "codemirror_mode": {
    "name": "ipython",
    "version": 3
   },
   "file_extension": ".py",
   "mimetype": "text/x-python",
   "name": "python",
   "nbconvert_exporter": "python",
   "pygments_lexer": "ipython3",
   "version": "3.6.15"
  }
 },
 "nbformat": 4,
 "nbformat_minor": 5
}
