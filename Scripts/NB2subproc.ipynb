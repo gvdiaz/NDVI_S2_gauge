{
 "cells": [
  {
   "cell_type": "markdown",
   "id": "8de6fb83",
   "metadata": {},
   "source": [
    "# Objetivo: Notebook para probar implementación de script para bajar, recortar, enmascarar y guardar producto S2 con módulo suprocess\n",
    "# Autor: Gustavo V. Diaz\n",
    "# Fecha: 20/12/2024\n",
    "# Fecha última modif: 20/12/2024"
   ]
  },
  {
   "cell_type": "markdown",
   "id": "28f22263",
   "metadata": {},
   "source": [
    "Objetivos primordiales\n",
    "\n",
    "1. Pasar funciones diseñadas en notebook \"Note2proc\" a módulo mod_snappy_s2\n",
    "2. Establecer canal de comunicación necesario para reportar salidas de script corrido en subprocess\n",
    "\n",
    "Razones\n",
    "\n",
    "Consume demasiados recursos abrir, procesar y guardar productos (aun cuando sea tan chico). Por lo cual implemento el procesamiento dentro de un script para cada producto que cuando termina de correrse devuelva todos los recursos."
   ]
  },
  {
   "cell_type": "code",
   "execution_count": 35,
   "id": "7f6398d4",
   "metadata": {},
   "outputs": [],
   "source": [
    "import subprocess\n",
    "import json"
   ]
  },
  {
   "cell_type": "code",
   "execution_count": 36,
   "id": "a0ac3ac9",
   "metadata": {},
   "outputs": [],
   "source": [
    "# Variables necesarias a cargar\n",
    "config_path = r'/src/utils/CONF_PROC.INI'\n",
    "development = True\n",
    "verbose2conf = False"
   ]
  },
  {
   "cell_type": "code",
   "execution_count": 37,
   "id": "d4d2364e",
   "metadata": {},
   "outputs": [],
   "source": [
    "# Carga de variables de entrada necesarias\n",
    "inputdict =  {'config': config_path,\n",
    "             'development': str(development)}\n",
    "#      'development' = development,\n",
    "#      'verbose' = True \n"
   ]
  },
  {
   "cell_type": "code",
   "execution_count": 38,
   "id": "152254f5",
   "metadata": {},
   "outputs": [
    {
     "ename": "CalledProcessError",
     "evalue": "Command '['python3', '/src/Scripts/proc_s2.py', '{\"config\": \"/src/utils/CONF_PROC.INI\", \"development\": \"True\"}']' returned non-zero exit status 1.",
     "output_type": "error",
     "traceback": [
      "\u001b[0;31m---------------------------------------------------------------------------\u001b[0m",
      "\u001b[0;31mCalledProcessError\u001b[0m                        Traceback (most recent call last)",
      "\u001b[0;32m<ipython-input-38-ee78b10b87a4>\u001b[0m in \u001b[0;36m<module>\u001b[0;34m\u001b[0m\n\u001b[1;32m      1\u001b[0m \u001b[0minputdict_str\u001b[0m \u001b[0;34m=\u001b[0m \u001b[0mjson\u001b[0m\u001b[0;34m.\u001b[0m\u001b[0mdumps\u001b[0m\u001b[0;34m(\u001b[0m\u001b[0minputdict\u001b[0m\u001b[0;34m)\u001b[0m   \u001b[0;31m# encode dictionnary to json string\u001b[0m\u001b[0;34m\u001b[0m\u001b[0;34m\u001b[0m\u001b[0m\n\u001b[0;32m----> 2\u001b[0;31m \u001b[0mpipeline_out\u001b[0m \u001b[0;34m=\u001b[0m \u001b[0msubprocess\u001b[0m\u001b[0;34m.\u001b[0m\u001b[0mcheck_output\u001b[0m\u001b[0;34m(\u001b[0m\u001b[0;34m[\u001b[0m\u001b[0;34m'python3'\u001b[0m\u001b[0;34m,\u001b[0m \u001b[0;34m'/src/Scripts/proc_s2.py'\u001b[0m\u001b[0;34m,\u001b[0m \u001b[0minputdict_str\u001b[0m\u001b[0;34m]\u001b[0m\u001b[0;34m,\u001b[0m \u001b[0mstderr\u001b[0m\u001b[0;34m=\u001b[0m\u001b[0msubprocess\u001b[0m\u001b[0;34m.\u001b[0m\u001b[0mSTDOUT\u001b[0m\u001b[0;34m,\u001b[0m \u001b[0muniversal_newlines\u001b[0m\u001b[0;34m=\u001b[0m\u001b[0;32mNone\u001b[0m\u001b[0;34m)\u001b[0m\u001b[0;34m\u001b[0m\u001b[0;34m\u001b[0m\u001b[0m\n\u001b[0m",
      "\u001b[0;32m/usr/lib/python3.6/subprocess.py\u001b[0m in \u001b[0;36mcheck_output\u001b[0;34m(timeout, *popenargs, **kwargs)\u001b[0m\n\u001b[1;32m    354\u001b[0m \u001b[0;34m\u001b[0m\u001b[0m\n\u001b[1;32m    355\u001b[0m     return run(*popenargs, stdout=PIPE, timeout=timeout, check=True,\n\u001b[0;32m--> 356\u001b[0;31m                **kwargs).stdout\n\u001b[0m\u001b[1;32m    357\u001b[0m \u001b[0;34m\u001b[0m\u001b[0m\n\u001b[1;32m    358\u001b[0m \u001b[0;34m\u001b[0m\u001b[0m\n",
      "\u001b[0;32m/usr/lib/python3.6/subprocess.py\u001b[0m in \u001b[0;36mrun\u001b[0;34m(input, timeout, check, *popenargs, **kwargs)\u001b[0m\n\u001b[1;32m    436\u001b[0m         \u001b[0;32mif\u001b[0m \u001b[0mcheck\u001b[0m \u001b[0;32mand\u001b[0m \u001b[0mretcode\u001b[0m\u001b[0;34m:\u001b[0m\u001b[0;34m\u001b[0m\u001b[0;34m\u001b[0m\u001b[0m\n\u001b[1;32m    437\u001b[0m             raise CalledProcessError(retcode, process.args,\n\u001b[0;32m--> 438\u001b[0;31m                                      output=stdout, stderr=stderr)\n\u001b[0m\u001b[1;32m    439\u001b[0m     \u001b[0;32mreturn\u001b[0m \u001b[0mCompletedProcess\u001b[0m\u001b[0;34m(\u001b[0m\u001b[0mprocess\u001b[0m\u001b[0;34m.\u001b[0m\u001b[0margs\u001b[0m\u001b[0;34m,\u001b[0m \u001b[0mretcode\u001b[0m\u001b[0;34m,\u001b[0m \u001b[0mstdout\u001b[0m\u001b[0;34m,\u001b[0m \u001b[0mstderr\u001b[0m\u001b[0;34m)\u001b[0m\u001b[0;34m\u001b[0m\u001b[0;34m\u001b[0m\u001b[0m\n\u001b[1;32m    440\u001b[0m \u001b[0;34m\u001b[0m\u001b[0m\n",
      "\u001b[0;31mCalledProcessError\u001b[0m: Command '['python3', '/src/Scripts/proc_s2.py', '{\"config\": \"/src/utils/CONF_PROC.INI\", \"development\": \"True\"}']' returned non-zero exit status 1."
     ]
    }
   ],
   "source": [
    "# inputdict_str = json.dumps(inputdict)   # encode dictionnary to json string\n",
    "# pipeline_out = subprocess.check_output(['python3', '/src/Scripts/proc_s2.py', inputdict_str], stderr=subprocess.STDOUT, universal_newlines=None)\n"
   ]
  },
  {
   "cell_type": "code",
   "execution_count": null,
   "id": "f82bb395",
   "metadata": {},
   "outputs": [],
   "source": [
    "print(pipeline_out.decode())"
   ]
  },
  {
   "cell_type": "markdown",
   "id": "9cc3cfee",
   "metadata": {},
   "source": [
    "## Conclusión al 22/12/2024\n",
    "\n",
    "Intento implementar las funciones dentro del script \"proc_s2.py\" pero tiene una gran desventaja, no permite un claro debuggeo. Solo termina con que el llamador del script devuelve 1 ante cualquier tipo de error.\n",
    "\n",
    "Por lo indicado voy a traducir exportar las funciones utilizadas al módulo \"mod_snappy_s2\" como primer paso en script note2proc y luego de ver de utilizarlas con el subprocess."
   ]
  }
 ],
 "metadata": {
  "kernelspec": {
   "display_name": "Python 3",
   "language": "python",
   "name": "python3"
  },
  "language_info": {
   "codemirror_mode": {
    "name": "ipython",
    "version": 3
   },
   "file_extension": ".py",
   "mimetype": "text/x-python",
   "name": "python",
   "nbconvert_exporter": "python",
   "pygments_lexer": "ipython3",
   "version": "3.6.15"
  }
 },
 "nbformat": 4,
 "nbformat_minor": 5
}
