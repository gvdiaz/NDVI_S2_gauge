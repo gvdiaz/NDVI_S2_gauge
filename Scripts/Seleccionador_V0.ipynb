{
 "cells": [
  {
   "cell_type": "code",
   "execution_count": 1,
   "metadata": {},
   "outputs": [],
   "source": [
    "import os\n",
    "import requests\n",
    "import pandas as pd"
   ]
  },
  {
   "cell_type": "markdown",
   "metadata": {},
   "source": [
    "* Obtención de polígono en Monte Hermoso generado por QGIS\n",
    "\n",
    "* Sería conveniente generar un script para tomar la geometría de un shape file o de cualquier dato vectorial en proyección EPSG:4326"
   ]
  },
  {
   "cell_type": "code",
   "execution_count": 2,
   "metadata": {},
   "outputs": [
    {
     "name": "stdout",
     "output_type": "stream",
     "text": [
      "True\n"
     ]
    },
    {
     "data": {
      "text/plain": [
       "str"
      ]
     },
     "metadata": {},
     "output_type": "display_data"
    },
    {
     "name": "stdout",
     "output_type": "stream",
     "text": [
      "MultiPolygon (((-61.34108516 -38.96185316, -61.20776258 -38.96086585, -61.20776258 -38.96086585, -61.20776258 -39.02254635, -61.34172003 -39.02155988, -61.34108516 -38.96185316)))\n",
      "POLYGON ((-61.34108516 -38.96185316, -61.20776258 -38.96086585, -61.20776258 -38.96086585, -61.20776258 -39.02254635, -61.34172003 -39.02155988, -61.34108516 -38.96185316))\n"
     ]
    }
   ],
   "source": [
    "# Definición de carpeta donde se encuentra dato vectorial\n",
    "vec_folder = r'/home/negrete/test_gee/Vectores/csv/'\n",
    "vec_file = r'geom_monte_h.csv'\n",
    "print(os.path.exists(vec_folder))\n",
    "df_geom = pd.read_csv(os.path.join(vec_folder,vec_file))\n",
    "display(type(df_geom.loc[0]['wkt']))\n",
    "geom = df_geom.loc[0]['wkt']\n",
    "# Geometría generada por QGIS en wkt\n",
    "print(geom)\n",
    "\n",
    "# Modificaciones necesarias para que funcione la búsqueda en plataforma de la ESA\n",
    "geom_2 = geom.replace('MultiPolygon','POLYGON')\n",
    "geom_2 = geom_2.replace('(((','((')\n",
    "geom_2 = geom_2.replace(')))','))')\n",
    "print(geom_2)"
   ]
  },
  {
   "cell_type": "markdown",
   "metadata": {},
   "source": [
    "### Armado de string de búsqueda para requerir a servidor de la ESA"
   ]
  },
  {
   "cell_type": "code",
   "execution_count": 3,
   "metadata": {},
   "outputs": [
    {
     "data": {
      "text/plain": [
       "[\"https://catalogue.dataspace.copernicus.eu/odata/v1/Products?$filter=contains(Name,'MSIL2A') and OData.CSC.Intersects(area=geography'SRID=4326;POLYGON ((-61.34108516 -38.96185316, -61.20776258 -38.96086585, -61.20776258 -38.96086585, -61.20776258 -39.02254635, -61.34172003 -39.02155988, -61.34108516 -38.96185316))') and ContentDate/Start gt 2022-03-03T00:00:00.000Z and ContentDate/Start lt 2022-05-03T00:00:00.000Z&$orderby=ContentDate/Start&$top=100\",\n",
       " \"https://catalogue.dataspace.copernicus.eu/odata/v1/Products?$filter=contains(Name,'MSIL2A') and OData.CSC.Intersects(area=geography'SRID=4326;POLYGON ((-61.34108516 -38.96185316, -61.20776258 -38.96086585, -61.20776258 -38.96086585, -61.20776258 -39.02254635, -61.34172003 -39.02155988, -61.34108516 -38.96185316))') and Attributes/OData.CSC.DoubleAttribute/any(att:att/Name eq 'cloudCover' and att/OData.CSC.DoubleAttribute/Value le 10) and ContentDate/Start gt 2022-03-03T00:00:00.000Z and ContentDate/Start lt 2022-05-03T00:00:00.000Z&$orderby=ContentDate/Start&$top=100\"]"
      ]
     },
     "metadata": {},
     "output_type": "display_data"
    }
   ],
   "source": [
    "filter_Sent = \"contains(Name,'MSIL2A')\"\n",
    "url = 'https://catalogue.dataspace.copernicus.eu/odata/v1/Products'\n",
    "orderby = \"ContentDate/Start\"\n",
    "top = \"100\"\n",
    "\n",
    "initial_date_new = \"gt 2022-03-03T00:00:00.000Z\"\n",
    "final_date_new = \"lt 2022-05-03T00:00:00.000Z\"\n",
    "prefix_place =f\"OData.CSC.Intersects(area=geography'SRID=4326;{geom_2}')\"\n",
    "renew_query_mis_pl = f\"{url}?$filter={filter_Sent} and {prefix_place} and ContentDate/Start {initial_date_new} and ContentDate/Start {final_date_new}&$orderby={orderby}&$top={top}\"\n",
    "cloud_cover = str(10) # Se encuentra en procentaje pero hay que esscribirlo tipo string\n",
    "prefix_cloud = f\"Attributes/OData.CSC.DoubleAttribute/any(att:att/Name eq 'cloudCover' and att/OData.CSC.DoubleAttribute/Value le {cloud_cover})\"\n",
    "prefix_dates = f\"ContentDate/Start {initial_date_new} and ContentDate/Start {final_date_new}\"\n",
    "renew_query_mis_pl_cc = f\"{url}?$filter={filter_Sent} and {prefix_place} and {prefix_cloud} and {prefix_dates}&$orderby={orderby}&$top={top}\"\n",
    "# print(prefix_place, renew_query_mis_pl, renew_query_mis_pl_cc, sep='\\n')\n",
    "req_list = [renew_query_mis_pl, renew_query_mis_pl_cc]\n",
    "display(req_list)"
   ]
  },
  {
   "cell_type": "code",
   "execution_count": 4,
   "metadata": {},
   "outputs": [
    {
     "data": {
      "text/plain": [
       "\"https://catalogue.dataspace.copernicus.eu/odata/v1/Products?$filter=contains(Name,'MSIL2A') and OData.CSC.Intersects(area=geography'SRID=4326;POLYGON ((-61.34108516 -38.96185316, -61.20776258 -38.96086585, -61.20776258 -38.96086585, -61.20776258 -39.02254635, -61.34172003 -39.02155988, -61.34108516 -38.96185316))') and ContentDate/Start gt 2022-03-03T00:00:00.000Z and ContentDate/Start lt 2022-05-03T00:00:00.000Z&$orderby=ContentDate/Start&$top=100\""
      ]
     },
     "metadata": {},
     "output_type": "display_data"
    },
    {
     "data": {
      "text/html": [
       "<div>\n",
       "<style scoped>\n",
       "    .dataframe tbody tr th:only-of-type {\n",
       "        vertical-align: middle;\n",
       "    }\n",
       "\n",
       "    .dataframe tbody tr th {\n",
       "        vertical-align: top;\n",
       "    }\n",
       "\n",
       "    .dataframe thead th {\n",
       "        text-align: right;\n",
       "    }\n",
       "</style>\n",
       "<table border=\"1\" class=\"dataframe\">\n",
       "  <thead>\n",
       "    <tr style=\"text-align: right;\">\n",
       "      <th></th>\n",
       "      <th>@odata.mediaContentType</th>\n",
       "      <th>Id</th>\n",
       "      <th>Name</th>\n",
       "      <th>ContentType</th>\n",
       "      <th>ContentLength</th>\n",
       "      <th>OriginDate</th>\n",
       "      <th>PublicationDate</th>\n",
       "      <th>ModificationDate</th>\n",
       "      <th>Online</th>\n",
       "      <th>EvictionDate</th>\n",
       "      <th>S3Path</th>\n",
       "      <th>Checksum</th>\n",
       "      <th>ContentDate</th>\n",
       "      <th>Footprint</th>\n",
       "      <th>GeoFootprint</th>\n",
       "    </tr>\n",
       "  </thead>\n",
       "  <tbody>\n",
       "    <tr>\n",
       "      <th>0</th>\n",
       "      <td>application/octet-stream</td>\n",
       "      <td>c1253c40-3176-5322-9c70-a0a575c0e56e</td>\n",
       "      <td>S2B_MSIL2A_20220304T135109_N0400_R024_T20HPB_2...</td>\n",
       "      <td>application/octet-stream</td>\n",
       "      <td>0</td>\n",
       "      <td>2022-03-04T22:22:20.540Z</td>\n",
       "      <td>2022-07-01T15:39:54.438Z</td>\n",
       "      <td>2022-07-01T15:39:54.438Z</td>\n",
       "      <td>True</td>\n",
       "      <td></td>\n",
       "      <td>/eodata/Sentinel-2/MSI/L2A/2022/03/04/S2B_MSIL...</td>\n",
       "      <td>[]</td>\n",
       "      <td>{'Start': '2022-03-04T13:51:09.024Z', 'End': '...</td>\n",
       "      <td>geography'SRID=4326;POLYGON ((-61.847717 -38.8...</td>\n",
       "      <td>{'type': 'Polygon', 'coordinates': [[[-61.8477...</td>\n",
       "    </tr>\n",
       "    <tr>\n",
       "      <th>1</th>\n",
       "      <td>application/octet-stream</td>\n",
       "      <td>0db40101-d5be-5962-8a67-935cdf44a3d6</td>\n",
       "      <td>S2B_MSIL2A_20220307T140049_N0400_R067_T20HPB_2...</td>\n",
       "      <td>application/octet-stream</td>\n",
       "      <td>0</td>\n",
       "      <td>2022-03-07T23:14:20.269Z</td>\n",
       "      <td>2022-03-27T15:07:17.153Z</td>\n",
       "      <td>2022-03-27T15:07:17.153Z</td>\n",
       "      <td>True</td>\n",
       "      <td></td>\n",
       "      <td>/eodata/Sentinel-2/MSI/L2A/2022/03/07/S2B_MSIL...</td>\n",
       "      <td>[]</td>\n",
       "      <td>{'Start': '2022-03-07T14:00:49.024Z', 'End': '...</td>\n",
       "      <td>geography'SRID=4326;POLYGON ((-61.006195 -38.8...</td>\n",
       "      <td>{'type': 'Polygon', 'coordinates': [[[-61.0061...</td>\n",
       "    </tr>\n",
       "    <tr>\n",
       "      <th>2</th>\n",
       "      <td>application/octet-stream</td>\n",
       "      <td>3db1829f-7309-5c51-810f-20ffc7410946</td>\n",
       "      <td>S2A_MSIL2A_20220309T135121_N0400_R024_T20HPB_2...</td>\n",
       "      <td>application/octet-stream</td>\n",
       "      <td>0</td>\n",
       "      <td>2022-03-09T21:38:02.833Z</td>\n",
       "      <td>2022-03-27T01:19:12.339Z</td>\n",
       "      <td>2022-03-27T01:19:12.339Z</td>\n",
       "      <td>True</td>\n",
       "      <td></td>\n",
       "      <td>/eodata/Sentinel-2/MSI/L2A/2022/03/09/S2A_MSIL...</td>\n",
       "      <td>[]</td>\n",
       "      <td>{'Start': '2022-03-09T13:51:21.024Z', 'End': '...</td>\n",
       "      <td>geography'SRID=4326;POLYGON ((-60.554108 -39.6...</td>\n",
       "      <td>{'type': 'Polygon', 'coordinates': [[[-60.5541...</td>\n",
       "    </tr>\n",
       "  </tbody>\n",
       "</table>\n",
       "</div>"
      ],
      "text/plain": [
       "    @odata.mediaContentType                                    Id  \\\n",
       "0  application/octet-stream  c1253c40-3176-5322-9c70-a0a575c0e56e   \n",
       "1  application/octet-stream  0db40101-d5be-5962-8a67-935cdf44a3d6   \n",
       "2  application/octet-stream  3db1829f-7309-5c51-810f-20ffc7410946   \n",
       "\n",
       "                                                Name  \\\n",
       "0  S2B_MSIL2A_20220304T135109_N0400_R024_T20HPB_2...   \n",
       "1  S2B_MSIL2A_20220307T140049_N0400_R067_T20HPB_2...   \n",
       "2  S2A_MSIL2A_20220309T135121_N0400_R024_T20HPB_2...   \n",
       "\n",
       "                ContentType  ContentLength                OriginDate  \\\n",
       "0  application/octet-stream              0  2022-03-04T22:22:20.540Z   \n",
       "1  application/octet-stream              0  2022-03-07T23:14:20.269Z   \n",
       "2  application/octet-stream              0  2022-03-09T21:38:02.833Z   \n",
       "\n",
       "            PublicationDate          ModificationDate  Online EvictionDate  \\\n",
       "0  2022-07-01T15:39:54.438Z  2022-07-01T15:39:54.438Z    True                \n",
       "1  2022-03-27T15:07:17.153Z  2022-03-27T15:07:17.153Z    True                \n",
       "2  2022-03-27T01:19:12.339Z  2022-03-27T01:19:12.339Z    True                \n",
       "\n",
       "                                              S3Path Checksum  \\\n",
       "0  /eodata/Sentinel-2/MSI/L2A/2022/03/04/S2B_MSIL...       []   \n",
       "1  /eodata/Sentinel-2/MSI/L2A/2022/03/07/S2B_MSIL...       []   \n",
       "2  /eodata/Sentinel-2/MSI/L2A/2022/03/09/S2A_MSIL...       []   \n",
       "\n",
       "                                         ContentDate  \\\n",
       "0  {'Start': '2022-03-04T13:51:09.024Z', 'End': '...   \n",
       "1  {'Start': '2022-03-07T14:00:49.024Z', 'End': '...   \n",
       "2  {'Start': '2022-03-09T13:51:21.024Z', 'End': '...   \n",
       "\n",
       "                                           Footprint  \\\n",
       "0  geography'SRID=4326;POLYGON ((-61.847717 -38.8...   \n",
       "1  geography'SRID=4326;POLYGON ((-61.006195 -38.8...   \n",
       "2  geography'SRID=4326;POLYGON ((-60.554108 -39.6...   \n",
       "\n",
       "                                        GeoFootprint  \n",
       "0  {'type': 'Polygon', 'coordinates': [[[-61.8477...  \n",
       "1  {'type': 'Polygon', 'coordinates': [[[-61.0061...  \n",
       "2  {'type': 'Polygon', 'coordinates': [[[-60.5541...  "
      ]
     },
     "metadata": {},
     "output_type": "display_data"
    },
    {
     "data": {
      "text/plain": [
       "\"https://catalogue.dataspace.copernicus.eu/odata/v1/Products?$filter=contains(Name,'MSIL2A') and OData.CSC.Intersects(area=geography'SRID=4326;POLYGON ((-61.34108516 -38.96185316, -61.20776258 -38.96086585, -61.20776258 -38.96086585, -61.20776258 -39.02254635, -61.34172003 -39.02155988, -61.34108516 -38.96185316))') and Attributes/OData.CSC.DoubleAttribute/any(att:att/Name eq 'cloudCover' and att/OData.CSC.DoubleAttribute/Value le 10) and ContentDate/Start gt 2022-03-03T00:00:00.000Z and ContentDate/Start lt 2022-05-03T00:00:00.000Z&$orderby=ContentDate/Start&$top=100\""
      ]
     },
     "metadata": {},
     "output_type": "display_data"
    },
    {
     "data": {
      "text/html": [
       "<div>\n",
       "<style scoped>\n",
       "    .dataframe tbody tr th:only-of-type {\n",
       "        vertical-align: middle;\n",
       "    }\n",
       "\n",
       "    .dataframe tbody tr th {\n",
       "        vertical-align: top;\n",
       "    }\n",
       "\n",
       "    .dataframe thead th {\n",
       "        text-align: right;\n",
       "    }\n",
       "</style>\n",
       "<table border=\"1\" class=\"dataframe\">\n",
       "  <thead>\n",
       "    <tr style=\"text-align: right;\">\n",
       "      <th></th>\n",
       "      <th>@odata.mediaContentType</th>\n",
       "      <th>Id</th>\n",
       "      <th>Name</th>\n",
       "      <th>ContentType</th>\n",
       "      <th>ContentLength</th>\n",
       "      <th>OriginDate</th>\n",
       "      <th>PublicationDate</th>\n",
       "      <th>ModificationDate</th>\n",
       "      <th>Online</th>\n",
       "      <th>EvictionDate</th>\n",
       "      <th>S3Path</th>\n",
       "      <th>Checksum</th>\n",
       "      <th>ContentDate</th>\n",
       "      <th>Footprint</th>\n",
       "      <th>GeoFootprint</th>\n",
       "    </tr>\n",
       "  </thead>\n",
       "  <tbody>\n",
       "    <tr>\n",
       "      <th>0</th>\n",
       "      <td>application/octet-stream</td>\n",
       "      <td>c1253c40-3176-5322-9c70-a0a575c0e56e</td>\n",
       "      <td>S2B_MSIL2A_20220304T135109_N0400_R024_T20HPB_2...</td>\n",
       "      <td>application/octet-stream</td>\n",
       "      <td>0</td>\n",
       "      <td>2022-03-04T22:22:20.540Z</td>\n",
       "      <td>2022-07-01T15:39:54.438Z</td>\n",
       "      <td>2022-07-01T15:39:54.438Z</td>\n",
       "      <td>True</td>\n",
       "      <td></td>\n",
       "      <td>/eodata/Sentinel-2/MSI/L2A/2022/03/04/S2B_MSIL...</td>\n",
       "      <td>[]</td>\n",
       "      <td>{'Start': '2022-03-04T13:51:09.024Z', 'End': '...</td>\n",
       "      <td>geography'SRID=4326;POLYGON ((-61.847717 -38.8...</td>\n",
       "      <td>{'type': 'Polygon', 'coordinates': [[[-61.8477...</td>\n",
       "    </tr>\n",
       "    <tr>\n",
       "      <th>1</th>\n",
       "      <td>application/octet-stream</td>\n",
       "      <td>0db40101-d5be-5962-8a67-935cdf44a3d6</td>\n",
       "      <td>S2B_MSIL2A_20220307T140049_N0400_R067_T20HPB_2...</td>\n",
       "      <td>application/octet-stream</td>\n",
       "      <td>0</td>\n",
       "      <td>2022-03-07T23:14:20.269Z</td>\n",
       "      <td>2022-03-27T15:07:17.153Z</td>\n",
       "      <td>2022-03-27T15:07:17.153Z</td>\n",
       "      <td>True</td>\n",
       "      <td></td>\n",
       "      <td>/eodata/Sentinel-2/MSI/L2A/2022/03/07/S2B_MSIL...</td>\n",
       "      <td>[]</td>\n",
       "      <td>{'Start': '2022-03-07T14:00:49.024Z', 'End': '...</td>\n",
       "      <td>geography'SRID=4326;POLYGON ((-61.006195 -38.8...</td>\n",
       "      <td>{'type': 'Polygon', 'coordinates': [[[-61.0061...</td>\n",
       "    </tr>\n",
       "    <tr>\n",
       "      <th>2</th>\n",
       "      <td>application/octet-stream</td>\n",
       "      <td>c1be4316-de04-5902-b0ac-b01b32aec350</td>\n",
       "      <td>S2A_MSIL2A_20220312T140101_N0400_R067_T20HPB_2...</td>\n",
       "      <td>application/octet-stream</td>\n",
       "      <td>0</td>\n",
       "      <td>2022-03-12T23:14:08.829Z</td>\n",
       "      <td>2022-03-26T01:57:48.786Z</td>\n",
       "      <td>2022-03-26T01:57:48.786Z</td>\n",
       "      <td>True</td>\n",
       "      <td></td>\n",
       "      <td>/eodata/Sentinel-2/MSI/L2A/2022/03/12/S2A_MSIL...</td>\n",
       "      <td>[]</td>\n",
       "      <td>{'Start': '2022-03-12T14:01:01.024Z', 'End': '...</td>\n",
       "      <td>geography'SRID=4326;POLYGON ((-61.008057 -38.8...</td>\n",
       "      <td>{'type': 'Polygon', 'coordinates': [[[-61.0080...</td>\n",
       "    </tr>\n",
       "  </tbody>\n",
       "</table>\n",
       "</div>"
      ],
      "text/plain": [
       "    @odata.mediaContentType                                    Id  \\\n",
       "0  application/octet-stream  c1253c40-3176-5322-9c70-a0a575c0e56e   \n",
       "1  application/octet-stream  0db40101-d5be-5962-8a67-935cdf44a3d6   \n",
       "2  application/octet-stream  c1be4316-de04-5902-b0ac-b01b32aec350   \n",
       "\n",
       "                                                Name  \\\n",
       "0  S2B_MSIL2A_20220304T135109_N0400_R024_T20HPB_2...   \n",
       "1  S2B_MSIL2A_20220307T140049_N0400_R067_T20HPB_2...   \n",
       "2  S2A_MSIL2A_20220312T140101_N0400_R067_T20HPB_2...   \n",
       "\n",
       "                ContentType  ContentLength                OriginDate  \\\n",
       "0  application/octet-stream              0  2022-03-04T22:22:20.540Z   \n",
       "1  application/octet-stream              0  2022-03-07T23:14:20.269Z   \n",
       "2  application/octet-stream              0  2022-03-12T23:14:08.829Z   \n",
       "\n",
       "            PublicationDate          ModificationDate  Online EvictionDate  \\\n",
       "0  2022-07-01T15:39:54.438Z  2022-07-01T15:39:54.438Z    True                \n",
       "1  2022-03-27T15:07:17.153Z  2022-03-27T15:07:17.153Z    True                \n",
       "2  2022-03-26T01:57:48.786Z  2022-03-26T01:57:48.786Z    True                \n",
       "\n",
       "                                              S3Path Checksum  \\\n",
       "0  /eodata/Sentinel-2/MSI/L2A/2022/03/04/S2B_MSIL...       []   \n",
       "1  /eodata/Sentinel-2/MSI/L2A/2022/03/07/S2B_MSIL...       []   \n",
       "2  /eodata/Sentinel-2/MSI/L2A/2022/03/12/S2A_MSIL...       []   \n",
       "\n",
       "                                         ContentDate  \\\n",
       "0  {'Start': '2022-03-04T13:51:09.024Z', 'End': '...   \n",
       "1  {'Start': '2022-03-07T14:00:49.024Z', 'End': '...   \n",
       "2  {'Start': '2022-03-12T14:01:01.024Z', 'End': '...   \n",
       "\n",
       "                                           Footprint  \\\n",
       "0  geography'SRID=4326;POLYGON ((-61.847717 -38.8...   \n",
       "1  geography'SRID=4326;POLYGON ((-61.006195 -38.8...   \n",
       "2  geography'SRID=4326;POLYGON ((-61.008057 -38.8...   \n",
       "\n",
       "                                        GeoFootprint  \n",
       "0  {'type': 'Polygon', 'coordinates': [[[-61.8477...  \n",
       "1  {'type': 'Polygon', 'coordinates': [[[-61.0061...  \n",
       "2  {'type': 'Polygon', 'coordinates': [[[-61.0080...  "
      ]
     },
     "metadata": {},
     "output_type": "display_data"
    }
   ],
   "source": [
    "df_list = []\n",
    "for i,req in enumerate(req_list):\n",
    "    # print(req)\n",
    "    json = requests.get(req).json()\n",
    "    display(req)\n",
    "    df_list.append(pd.DataFrame.from_dict(json['value']).head(3))\n",
    "    display(df_list[i])"
   ]
  }
 ],
 "metadata": {
  "kernelspec": {
   "display_name": "Python 3 (ipykernel)",
   "language": "python",
   "name": "python3"
  },
  "language_info": {
   "codemirror_mode": {
    "name": "ipython",
    "version": 3
   },
   "file_extension": ".py",
   "mimetype": "text/x-python",
   "name": "python",
   "nbconvert_exporter": "python",
   "pygments_lexer": "ipython3",
   "version": "3.10.6"
  },
  "orig_nbformat": 4
 },
 "nbformat": 4,
 "nbformat_minor": 2
}
