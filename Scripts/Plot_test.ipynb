{
 "cells": [
  {
   "cell_type": "code",
   "execution_count": 1,
   "id": "f6ddbdeb",
   "metadata": {},
   "outputs": [
    {
     "name": "stderr",
     "output_type": "stream",
     "text": [
      "/opt/venv/lib/python3.6/site-packages/tqdm/auto.py:22: TqdmWarning: IProgress not found. Please update jupyter and ipywidgets. See https://ipywidgets.readthedocs.io/en/stable/user_install.html\n",
      "  from .autonotebook import tqdm as notebook_tqdm\n"
     ]
    }
   ],
   "source": [
    "# Script para implementar funcionamiento de subprocess lanzado en script principal\n",
    "# Fecha: 01/01/2025\n",
    "\n",
    "import sys\n",
    "import pandas as pd\n",
    "import os\n",
    "# módulo para verificar si un path existe\n",
    "from pathlib import Path\n",
    "\n",
    "# Módulo para bajer productos S2\n",
    "sys.path.append(r'../utils')\n",
    "import mod_dloader as mdl\n",
    "\n",
    "# Para implementar funciones de snappy en módulo\n",
    "import mod_snappy_S2 as msnap\n",
    "\n",
    "# Módulo para graficar\n",
    "import matplotlib.pyplot as plt"
   ]
  },
  {
   "cell_type": "code",
   "execution_count": 2,
   "id": "b7497d8e",
   "metadata": {},
   "outputs": [],
   "source": [
    "df_path_model = r'/src/Output/Test_Tucu_2_20250101T132641/table/statistics.xls'\n",
    "output_path = r'/src/Output/Test_Tucu_2_20250101T132641/table/'\n",
    "df = pd.read_excel(df_path_model)"
   ]
  },
  {
   "cell_type": "code",
   "execution_count": 3,
   "id": "9f4edb60",
   "metadata": {},
   "outputs": [
    {
     "data": {
      "text/html": [
       "<div>\n",
       "<style scoped>\n",
       "    .dataframe tbody tr th:only-of-type {\n",
       "        vertical-align: middle;\n",
       "    }\n",
       "\n",
       "    .dataframe tbody tr th {\n",
       "        vertical-align: top;\n",
       "    }\n",
       "\n",
       "    .dataframe thead th {\n",
       "        text-align: right;\n",
       "    }\n",
       "</style>\n",
       "<table border=\"1\" class=\"dataframe\">\n",
       "  <thead>\n",
       "    <tr style=\"text-align: right;\">\n",
       "      <th></th>\n",
       "      <th>Unnamed: 0</th>\n",
       "      <th>Unnamed: 0.1</th>\n",
       "      <th>Unnamed: 1</th>\n",
       "      <th>Unnamed: 2</th>\n",
       "      <th>cloudCover</th>\n",
       "      <th>Id</th>\n",
       "      <th>Name</th>\n",
       "      <th>shape</th>\n",
       "      <th>acq_date</th>\n",
       "      <th>path2png</th>\n",
       "      <th>mean_value</th>\n",
       "      <th>std_dev_value</th>\n",
       "    </tr>\n",
       "  </thead>\n",
       "  <tbody>\n",
       "    <tr>\n",
       "      <th>0</th>\n",
       "      <td>0</td>\n",
       "      <td>MSIL2A</td>\n",
       "      <td>T20JKQ</td>\n",
       "      <td>N0500</td>\n",
       "      <td>0.136110</td>\n",
       "      <td>b3cdc4d2-3950-4747-a6b5-e87b1d7fe38b</td>\n",
       "      <td>S2B_MSIL2A_20190108T142039_N0500_R010_T20JKQ_2...</td>\n",
       "      <td>POLYGON ((-66.03079 -27.2812764750355, -66.052...</td>\n",
       "      <td>2019-01-08 14:20:39</td>\n",
       "      <td>/src/Output/Test_Tucu_2_20250101T132641/NDVI_c...</td>\n",
       "      <td>0.276243</td>\n",
       "      <td>0.357225</td>\n",
       "    </tr>\n",
       "    <tr>\n",
       "      <th>1</th>\n",
       "      <td>1</td>\n",
       "      <td>MSIL2A</td>\n",
       "      <td>T20JKQ</td>\n",
       "      <td>N0500</td>\n",
       "      <td>41.300693</td>\n",
       "      <td>92e57255-9fea-40e5-a16d-3fb930bf38c8</td>\n",
       "      <td>S2A_MSIL2A_20190113T142031_N0500_R010_T20JKQ_2...</td>\n",
       "      <td>POLYGON ((-66.03116 -27.2941732245053, -66.052...</td>\n",
       "      <td>2019-01-13 14:20:31</td>\n",
       "      <td>/src/Output/Test_Tucu_2_20250101T132641/NDVI_c...</td>\n",
       "      <td>0.328546</td>\n",
       "      <td>0.383394</td>\n",
       "    </tr>\n",
       "  </tbody>\n",
       "</table>\n",
       "</div>"
      ],
      "text/plain": [
       "   Unnamed: 0 Unnamed: 0.1 Unnamed: 1 Unnamed: 2  cloudCover  \\\n",
       "0           0       MSIL2A     T20JKQ      N0500    0.136110   \n",
       "1           1       MSIL2A     T20JKQ      N0500   41.300693   \n",
       "\n",
       "                                     Id  \\\n",
       "0  b3cdc4d2-3950-4747-a6b5-e87b1d7fe38b   \n",
       "1  92e57255-9fea-40e5-a16d-3fb930bf38c8   \n",
       "\n",
       "                                                Name  \\\n",
       "0  S2B_MSIL2A_20190108T142039_N0500_R010_T20JKQ_2...   \n",
       "1  S2A_MSIL2A_20190113T142031_N0500_R010_T20JKQ_2...   \n",
       "\n",
       "                                               shape            acq_date  \\\n",
       "0  POLYGON ((-66.03079 -27.2812764750355, -66.052... 2019-01-08 14:20:39   \n",
       "1  POLYGON ((-66.03116 -27.2941732245053, -66.052... 2019-01-13 14:20:31   \n",
       "\n",
       "                                            path2png  mean_value  \\\n",
       "0  /src/Output/Test_Tucu_2_20250101T132641/NDVI_c...    0.276243   \n",
       "1  /src/Output/Test_Tucu_2_20250101T132641/NDVI_c...    0.328546   \n",
       "\n",
       "   std_dev_value  \n",
       "0       0.357225  \n",
       "1       0.383394  "
      ]
     },
     "metadata": {},
     "output_type": "display_data"
    }
   ],
   "source": [
    "display(df)"
   ]
  },
  {
   "cell_type": "code",
   "execution_count": 4,
   "id": "8ff8be50",
   "metadata": {},
   "outputs": [],
   "source": [
    "# Función para \"Creación de ploteo de serie temporal\" a partir de df con fecha de adquisición y valores estadísticos.\n",
    "# También debe tener como entrada el path donde se guarde el gráfico (/src/Output/Test_Tucu_2_20250101T132641/)\n",
    "# Plot with Matplotlib\n",
    "def temp_series(df, path2save, verbose):\n",
    "    out_path = os.path.join(path2save, 'temporal_series.png')\n",
    "    plt.figure(figsize=(10, 6))\n",
    "#     plt.plot(df['acq_date'], df['mean_value'], marker='o', label='mean_NDVI')\n",
    "    plt.plot(df['acq_date'], df['mean_value'], linestyle='-', marker='o', color='green', label='mean_NDVI')  # Red dashed line\n",
    "    plt.plot(df['acq_date'], df['cloudCover'],  linestyle='', marker='D', color='blue', label='Product Cloud cover')        # Blue solid \n",
    "    plt.title('Temporal Series')\n",
    "    plt.xlabel('Date')\n",
    "    plt.ylabel('Values')\n",
    "    plt.legend()\n",
    "    plt.grid()\n",
    "    plt.savefig(out_path , bbox_inches='tight')\n",
    "    if verbose:\n",
    "        plt.show()\n",
    "    return None\n",
    "\n",
    "def temp_series_2(df, path2save, verbose):\n",
    "    out_path = os.path.join(path2save, 'temporal_series.png')\n",
    "    # Create a figure and axis\n",
    "    fig, ax1 = plt.subplots(figsize=(10, 6))\n",
    "\n",
    "    # Plot the first column on the primary y-axis\n",
    "#     ax1.plot(df['acq_date'], df['mean_value'], linestyle='-', marker='o', color='green', label='mean_NDVI')\n",
    "#     xerr_lower = df['std_dev_value']/2\n",
    "#     xerr_upper = df['std_dev_value']/2\n",
    "    ndvi_color = 'green'\n",
    "    ax1.errorbar(df['acq_date'], df['mean_value'], yerr = df['std_dev_value']/2, linestyle='-', marker='o', color=ndvi_color, label='mean_NDVI')\n",
    "    ax1.set_xlabel('Date')\n",
    "    ax1.set_ylabel('NDVI [-]', color=ndvi_color)\n",
    "    ax1.tick_params(axis='y', labelcolor=ndvi_color)\n",
    "#     ax1.legend('lower right')\n",
    "    plt.legend(loc='lower right')\n",
    "\n",
    "    # Create a secondary y-axis\n",
    "    ax2 = ax1.twinx()\n",
    "    ax2.plot(df['acq_date'], df['cloudCover'], linestyle='', marker='D', color='blue', label='Product Cloud cover')\n",
    "    ax2.set_ylabel('Cloud cover (%)', color='blue')\n",
    "    ax2.tick_params(axis='y', labelcolor='blue')\n",
    "#     ax2.legend('lower left')\n",
    "\n",
    "    # Add titles and grid\n",
    "    plt.title('Temporal series two axis')\n",
    "    fig.tight_layout()  # Adjust layout to prevent overlap\n",
    "    plt.grid()\n",
    "    plt.legend()    \n",
    "    plt.savefig(out_path , bbox_inches='tight')\n",
    "    \n",
    "    if verbose:\n",
    "        plt.show()\n",
    "    return None\n",
    "    "
   ]
  },
  {
   "cell_type": "code",
   "execution_count": 5,
   "id": "1c77f64f",
   "metadata": {},
   "outputs": [
    {
     "data": {
      "image/png": "[encoded data removed]",
      "text/plain": [
       "<Figure size 720x432 with 2 Axes>"
      ]
     },
     "metadata": {
      "needs_background": "light"
     },
     "output_type": "display_data"
    }
   ],
   "source": [
    "msnap.temp_series_2(df, output_path, True)"
   ]
  }
 ],
 "metadata": {
  "kernelspec": {
   "display_name": "Python 3",
   "language": "python",
   "name": "python3"
  },
  "language_info": {
   "codemirror_mode": {
    "name": "ipython",
    "version": 3
   },
   "file_extension": ".py",
   "mimetype": "text/x-python",
   "name": "python",
   "nbconvert_exporter": "python",
   "pygments_lexer": "ipython3",
   "version": "3.6.15"
  }
 },
 "nbformat": 4,
 "nbformat_minor": 5
}
